{
 "cells": [
  {
   "cell_type": "raw",
   "source": [
    "﻿#%% md\n",
    "# AIN-2-21 Калимов Азиз"
   ],
   "metadata": {
    "collapsed": false
   },
   "id": "575ef0f75a70c62d"
  },
  {
   "cell_type": "code",
   "execution_count": null,
   "outputs": [],
   "source": [
    "print('Hello')"
   ],
   "metadata": {
    "collapsed": false
   },
   "id": "8ee5d0631d66585d"
  },
  {
   "cell_type": "code",
   "execution_count": null,
   "outputs": [],
   "source": [
    "a = 8 # int\n",
    "t = type(a)\n",
    "print(t)"
   ],
   "metadata": {
    "collapsed": false
   },
   "id": "45b6b624bb28b6d0"
  },
  {
   "cell_type": "code",
   "execution_count": null,
   "outputs": [],
   "source": [
    "f = 8.8 #float"
   ],
   "metadata": {
    "collapsed": false
   },
   "id": "7f0056b1ce040bda"
  },
  {
   "cell_type": "code",
   "execution_count": null,
   "outputs": [],
   "source": [
    "b = True # Boolean"
   ],
   "metadata": {
    "collapsed": false
   },
   "id": "d1a4fd6aba93967c"
  },
  {
   "cell_type": "code",
   "execution_count": null,
   "outputs": [],
   "source": [
    "s = \"Это строковая переменная\""
   ],
   "metadata": {
    "collapsed": false
   },
   "id": "dcaaff53f186941b"
  },
  {
   "cell_type": "code",
   "execution_count": null,
   "outputs": [],
   "source": [
    "l = ['Что ж', 'привет', 1, True, 7.7, f, a] # список"
   ],
   "metadata": {
    "collapsed": false
   },
   "id": "6b25c0cabf401b89"
  },
  {
   "cell_type": "code",
   "execution_count": null,
   "outputs": [],
   "source": [
    "d = {'первый': 1, 'не первый': 2} # словарь\n",
    "print(d['не первый'])"
   ],
   "metadata": {
    "collapsed": false
   },
   "id": "a051982f2b8a976a"
  },
  {
   "cell_type": "code",
   "execution_count": null,
   "outputs": [],
   "source": [
    "n = None # Null тип"
   ],
   "metadata": {
    "collapsed": false
   },
   "id": "8973989b46d00aef"
  },
  {
   "cell_type": "raw",
   "source": [],
   "metadata": {
    "collapsed": false
   },
   "id": "706c0274174a081c"
  },
  {
   "cell_type": "code",
   "execution_count": null,
   "outputs": [],
   "source": [
    "import math\n",
    "i = math.pow(5, 5)\n",
    "j = math.log(5, 5)\n",
    "pi = math.pi\n",
    "k = math.factorial(5)\n",
    "print(\"Степень(5^5): %s,  логарифм(5,5): %s,   число пи: %s,   факториал(5):  %s\")"
   ],
   "metadata": {
    "collapsed": false
   },
   "id": "1a8e65153b9989d4"
  },
  {
   "cell_type": "code",
   "execution_count": null,
   "outputs": [],
   "source": [
    "a = 1\n",
    "b = 2\n",
    "if a == b:\n",
    "    print(\"Они равны\")\n",
    "elif a > b:\n",
    "    print(\"a больше b\")\n",
    "else:\n",
    "    print(\"b больше a\")"
   ],
   "metadata": {
    "collapsed": false
   },
   "id": "dfebadfc51b01b3d"
  },
  {
   "cell_type": "code",
   "execution_count": null,
   "outputs": [],
   "source": [
    "l = ['a','b','c','d']\n",
    "for i in l:\n",
    "    print(i)"
   ],
   "metadata": {
    "collapsed": false
   },
   "id": "90383f0021b62150"
  },
  {
   "cell_type": "code",
   "execution_count": null,
   "outputs": [],
   "source": [
    "for j in range(500):\n",
    "    print(\"Mississippi\")"
   ],
   "metadata": {
    "collapsed": false
   },
   "id": "27945c90e8e9dfba"
  },
  {
   "cell_type": "code",
   "execution_count": null,
   "outputs": [],
   "source": [
    "i = 0\n",
    "while i<5:\n",
    "    print(i)\n",
    "    i+=1"
   ],
   "metadata": {
    "collapsed": false
   },
   "id": "17a79f335a27c7ef"
  },
  {
   "cell_type": "code",
   "execution_count": null,
   "outputs": [],
   "source": [
    "def hallo(x):\n",
    "    a = x\n",
    "    print(\"Это функция. Вот твое число\")\n",
    "    return a\n",
    "\n",
    "print(hallo(5))"
   ],
   "metadata": {
    "collapsed": false
   },
   "id": "a084300acbc6fbd3"
  },
  {
   "cell_type": "code",
   "execution_count": null,
   "outputs": [],
   "source": [
    "some_lambda = lambda x: x+x*x/x*x\n",
    "some_lambda_2 = lambda y,x: y+y+y*x*x*x\n",
    "some_lambda_3 = lambda z,y,x: x*y*x+x+x+x\n",
    "some_lambda(10)\n",
    "some_lambda_2(10,10)\n",
    "some_lambda_3(10,10,10)"
   ],
   "metadata": {
    "collapsed": false
   },
   "id": "1ec26c7398a20089"
  },
  {
   "cell_type": "markdown",
   "source": [
    "<h1>Hallo</h1>\n",
    "<h2>Hallo</h2>\n",
    "<h3>Hallo</h3>\n",
    "<h4>Hallo</h4>\n",
    "<h5>Hallo</h5>\n",
    "<h6>Hallo</h6>"
   ],
   "metadata": {
    "collapsed": false
   },
   "id": "880b13f7a78d6319"
  },
  {
   "cell_type": "markdown",
   "source": [
    "<img src='V2IZK7nA_oA.jpg' width='800'>"
   ],
   "metadata": {
    "collapsed": false
   },
   "id": "725f8248b9ef04f0"
  },
  {
   "cell_type": "raw",
   "source": [],
   "metadata": {
    "collapsed": false
   },
   "id": "c97c3ba8db373f47"
  },
  {
   "cell_type": "markdown",
   "source": [
    "\\begin{equation*}\n",
    "\\left(sum_ {k=1}^n k_k a_k l_k i_k m_k o_k v_k l_k\\right)^2\n",
    "\\end{equation*}"
   ],
   "metadata": {
    "collapsed": false
   },
   "id": "7fb888f4301ebf8d"
  },
  {
   "cell_type": "code",
   "execution_count": null,
   "outputs": [],
   "source": [
    "! ping google.com"
   ],
   "metadata": {
    "collapsed": false
   },
   "id": "fea13d8eda8ceb8a"
  },
  {
   "cell_type": "code",
   "execution_count": 9,
   "outputs": [
    {
     "name": "stdout",
     "output_type": "stream",
     "text": [
      "Active code page: 65001\n"
     ]
    }
   ],
   "source": [
    "!chcp 65001"
   ],
   "metadata": {
    "collapsed": false,
    "ExecuteTime": {
     "end_time": "2023-09-21T09:56:10.055781Z",
     "start_time": "2023-09-21T09:56:09.992198500Z"
    }
   },
   "id": "abe1cccc396dd920"
  },
  {
   "cell_type": "code",
   "execution_count": 12,
   "outputs": [
    {
     "name": "stdout",
     "output_type": "stream",
     "text": [
      "\n",
      "Pinging david.li [88.80.184.70] with 32 bytes of data:\n",
      "Reply from 88.80.184.70: bytes=32 time=110ms TTL=48\n",
      "Reply from 88.80.184.70: bytes=32 time=119ms TTL=48\n",
      "Reply from 88.80.184.70: bytes=32 time=115ms TTL=48\n",
      "Reply from 88.80.184.70: bytes=32 time=107ms TTL=48\n",
      "\n",
      "Ping statistics for 88.80.184.70:\n",
      "    Packets: Sent = 4, Received = 4, Lost = 0 (0% loss),\n",
      "Approximate round trip times in milli-seconds:\n",
      "    Minimum = 107ms, Maximum = 119ms, Average = 112ms\n"
     ]
    }
   ],
   "source": [
    "! ping david.li"
   ],
   "metadata": {
    "collapsed": false,
    "ExecuteTime": {
     "end_time": "2023-09-21T09:58:22.077394500Z",
     "start_time": "2023-09-21T09:58:18.805877600Z"
    }
   },
   "id": "fd6a19d798bf8afb"
  },
  {
   "cell_type": "code",
   "execution_count": 13,
   "outputs": [
    {
     "name": "stdout",
     "output_type": "stream",
     "text": [
      "\n",
      "Windows IP Configuration\n",
      "\n",
      "\n",
      "Ethernet adapter Ethernet:\n",
      "\n",
      "   Media State . . . . . . . . . . . : Media disconnected\n",
      "   Connection-specific DNS Suffix  . : \n",
      "\n",
      "Ethernet adapter Ethernet 2:\n",
      "\n",
      "   Connection-specific DNS Suffix  . : \n",
      "   Link-local IPv6 Address . . . . . : fe80::4404:a17f:f72a:33c1%15\n",
      "   IPv4 Address. . . . . . . . . . . : 192.168.56.1\n",
      "   Subnet Mask . . . . . . . . . . . : 255.255.255.0\n",
      "   Default Gateway . . . . . . . . . : \n",
      "\n",
      "Wireless LAN adapter Џ®¤Є«озҐ­ЁҐ Ї® «®Є «м­®© бҐвЁ* 1:\n",
      "\n",
      "   Media State . . . . . . . . . . . : Media disconnected\n",
      "   Connection-specific DNS Suffix  . : \n",
      "\n",
      "Wireless LAN adapter Џ®¤Є«озҐ­ЁҐ Ї® «®Є «м­®© бҐвЁ* 10:\n",
      "\n",
      "   Media State . . . . . . . . . . . : Media disconnected\n",
      "   Connection-specific DNS Suffix  . : \n",
      "\n",
      "Wireless LAN adapter ЃҐбЇа®ў®¤­ п бҐвм:\n",
      "\n",
      "   Connection-specific DNS Suffix  . : \n",
      "   Link-local IPv6 Address . . . . . : fe80::2a01:314c:82d9:7eb9%12\n",
      "   IPv4 Address. . . . . . . . . . . : 192.168.88.67\n",
      "   Subnet Mask . . . . . . . . . . . : 255.255.255.0\n",
      "   Default Gateway . . . . . . . . . : 192.168.88.1\n",
      "\n",
      "Ethernet adapter ‘ҐвҐў®Ґ Ї®¤Є«озҐ­ЁҐ Bluetooth:\n",
      "\n",
      "   Media State . . . . . . . . . . . : Media disconnected\n",
      "   Connection-specific DNS Suffix  . : \n"
     ]
    }
   ],
   "source": [
    "! ipconfig"
   ],
   "metadata": {
    "collapsed": false,
    "ExecuteTime": {
     "end_time": "2023-09-21T10:18:17.648026900Z",
     "start_time": "2023-09-21T10:18:17.584247400Z"
    }
   },
   "id": "cb2a16a0b8ba3809"
  },
  {
   "cell_type": "code",
   "execution_count": null,
   "outputs": [],
   "source": [
    "import numpy as np\n",
    "import matplotlib \n",
    "import matplotlib_inline"
   ],
   "metadata": {
    "collapsed": false
   },
   "id": "8203a2114fadfd61"
  }
 ],
 "metadata": {
  "kernelspec": {
   "display_name": "Python 3 (ipykernel)",
   "language": "python",
   "name": "python3"
  },
  "language_info": {
   "codemirror_mode": {
    "name": "ipython",
    "version": 3
   },
   "file_extension": ".py",
   "mimetype": "text/x-python",
   "name": "python",
   "nbconvert_exporter": "python",
   "pygments_lexer": "ipython3",
   "version": "3.11.3"
  }
 },
 "nbformat": 4,
 "nbformat_minor": 5
}
