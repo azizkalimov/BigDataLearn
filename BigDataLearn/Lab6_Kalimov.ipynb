{
 "cells": [
  {
   "cell_type": "markdown",
   "source": [
    "# ПЕРВАЯ ЧАСТЬ"
   ],
   "metadata": {
    "collapsed": false
   },
   "id": "71f7c2d6bb9c2099"
  },
  {
   "cell_type": "code",
   "execution_count": 61,
   "id": "initial_id",
   "metadata": {
    "collapsed": true,
    "ExecuteTime": {
     "end_time": "2023-12-05T09:59:01.225768700Z",
     "start_time": "2023-12-05T09:59:01.189770400Z"
    }
   },
   "outputs": [],
   "source": [
    "from sklearn.datasets import load_diabetes\n",
    "import pandas as pd\n",
    "from sklearn.model_selection import train_test_split\n",
    "from sklearn import preprocessing\n",
    "from sklearn.linear_model import LinearRegression"
   ]
  },
  {
   "cell_type": "markdown",
   "source": [
    "## Инициализация датасета и исследование"
   ],
   "metadata": {
    "collapsed": false
   },
   "id": "6d7c730280e9ae8b"
  },
  {
   "cell_type": "code",
   "execution_count": 62,
   "outputs": [
    {
     "data": {
      "text/plain": "        age       sex       bmi        bp        s1        s2        s3  \\\n0  0.038076  0.050680  0.061696  0.021872 -0.044223 -0.034821 -0.043401   \n1 -0.001882 -0.044642 -0.051474 -0.026328 -0.008449 -0.019163  0.074412   \n2  0.085299  0.050680  0.044451 -0.005670 -0.045599 -0.034194 -0.032356   \n3 -0.089063 -0.044642 -0.011595 -0.036656  0.012191  0.024991 -0.036038   \n4  0.005383 -0.044642 -0.036385  0.021872  0.003935  0.015596  0.008142   \n\n         s4        s5        s6   TEMP  \n0 -0.002592  0.019907 -0.017646  151.0  \n1 -0.039493 -0.068332 -0.092204   75.0  \n2 -0.002592  0.002861 -0.025930  141.0  \n3  0.034309  0.022688 -0.009362  206.0  \n4 -0.002592 -0.031988 -0.046641  135.0  ",
      "text/html": "<div>\n<style scoped>\n    .dataframe tbody tr th:only-of-type {\n        vertical-align: middle;\n    }\n\n    .dataframe tbody tr th {\n        vertical-align: top;\n    }\n\n    .dataframe thead th {\n        text-align: right;\n    }\n</style>\n<table border=\"1\" class=\"dataframe\">\n  <thead>\n    <tr style=\"text-align: right;\">\n      <th></th>\n      <th>age</th>\n      <th>sex</th>\n      <th>bmi</th>\n      <th>bp</th>\n      <th>s1</th>\n      <th>s2</th>\n      <th>s3</th>\n      <th>s4</th>\n      <th>s5</th>\n      <th>s6</th>\n      <th>TEMP</th>\n    </tr>\n  </thead>\n  <tbody>\n    <tr>\n      <th>0</th>\n      <td>0.038076</td>\n      <td>0.050680</td>\n      <td>0.061696</td>\n      <td>0.021872</td>\n      <td>-0.044223</td>\n      <td>-0.034821</td>\n      <td>-0.043401</td>\n      <td>-0.002592</td>\n      <td>0.019907</td>\n      <td>-0.017646</td>\n      <td>151.0</td>\n    </tr>\n    <tr>\n      <th>1</th>\n      <td>-0.001882</td>\n      <td>-0.044642</td>\n      <td>-0.051474</td>\n      <td>-0.026328</td>\n      <td>-0.008449</td>\n      <td>-0.019163</td>\n      <td>0.074412</td>\n      <td>-0.039493</td>\n      <td>-0.068332</td>\n      <td>-0.092204</td>\n      <td>75.0</td>\n    </tr>\n    <tr>\n      <th>2</th>\n      <td>0.085299</td>\n      <td>0.050680</td>\n      <td>0.044451</td>\n      <td>-0.005670</td>\n      <td>-0.045599</td>\n      <td>-0.034194</td>\n      <td>-0.032356</td>\n      <td>-0.002592</td>\n      <td>0.002861</td>\n      <td>-0.025930</td>\n      <td>141.0</td>\n    </tr>\n    <tr>\n      <th>3</th>\n      <td>-0.089063</td>\n      <td>-0.044642</td>\n      <td>-0.011595</td>\n      <td>-0.036656</td>\n      <td>0.012191</td>\n      <td>0.024991</td>\n      <td>-0.036038</td>\n      <td>0.034309</td>\n      <td>0.022688</td>\n      <td>-0.009362</td>\n      <td>206.0</td>\n    </tr>\n    <tr>\n      <th>4</th>\n      <td>0.005383</td>\n      <td>-0.044642</td>\n      <td>-0.036385</td>\n      <td>0.021872</td>\n      <td>0.003935</td>\n      <td>0.015596</td>\n      <td>0.008142</td>\n      <td>-0.002592</td>\n      <td>-0.031988</td>\n      <td>-0.046641</td>\n      <td>135.0</td>\n    </tr>\n  </tbody>\n</table>\n</div>"
     },
     "execution_count": 62,
     "metadata": {},
     "output_type": "execute_result"
    }
   ],
   "source": [
    "diabetes = load_diabetes()\n",
    "df = pd.DataFrame(diabetes.data, columns=diabetes.feature_names)\n",
    "df['TEMP'] = diabetes.target\n",
    "df.head()"
   ],
   "metadata": {
    "collapsed": false,
    "ExecuteTime": {
     "end_time": "2023-12-05T09:59:03.223789800Z",
     "start_time": "2023-12-05T09:59:03.082865100Z"
    }
   },
   "id": "879845684c8ed147"
  },
  {
   "cell_type": "markdown",
   "source": [
    "## Предобработка датасета и разбиение на тренировочные и тестовые наборы"
   ],
   "metadata": {
    "collapsed": false
   },
   "id": "ab26ff29eeca623d"
  },
  {
   "cell_type": "code",
   "execution_count": 63,
   "outputs": [],
   "source": [
    "diabetes.data = preprocessing.scale(diabetes.data)\n",
    "X_train, X_test, y_train, y_test = train_test_split(diabetes.data, diabetes.target, test_size=0.3,\n",
    "                                                    random_state=42)"
   ],
   "metadata": {
    "collapsed": false,
    "ExecuteTime": {
     "end_time": "2023-12-05T09:59:04.292058500Z",
     "start_time": "2023-12-05T09:59:04.270463200Z"
    }
   },
   "id": "9cee03d49ea34263"
  },
  {
   "cell_type": "markdown",
   "source": [
    "## Тренировка модели с использованием перекрестной проверки"
   ],
   "metadata": {
    "collapsed": false
   },
   "id": "cc4175b32fa17dfa"
  },
  {
   "cell_type": "code",
   "execution_count": 64,
   "outputs": [
    {
     "name": "stdout",
     "output_type": "stream",
     "text": [
      "Cross-validation scrores: [0.42955615 0.52259939 0.48268054 0.42649776 0.55024834]\n",
      "Средняя правильность перекрестной проверки: 0.48\n"
     ]
    }
   ],
   "source": [
    "from sklearn.model_selection import cross_val_score\n",
    "# logreg не очень подходящее имя, но я уже его везде происпользовал, поэтому оставил\n",
    "logreg = LinearRegression()\n",
    "logreg.fit(X_train, y_train)\n",
    "log_pred = logreg.predict(X_test)\n",
    "\n",
    "scores = cross_val_score(logreg, diabetes.data, diabetes.target, cv=5)\n",
    "\n",
    "print(\"Cross-validation scrores: {}\".format(scores))\n",
    "print(\"Средняя правильность перекрестной проверки: {:.2f}\".format(scores.mean()))"
   ],
   "metadata": {
    "collapsed": false,
    "ExecuteTime": {
     "end_time": "2023-12-05T09:59:06.797885800Z",
     "start_time": "2023-12-05T09:59:06.717397800Z"
    }
   },
   "id": "2060b2e830f16389"
  },
  {
   "cell_type": "code",
   "execution_count": 65,
   "outputs": [
    {
     "data": {
      "text/plain": "{'fit_time': array([0.00201321, 0.00100183, 0.00100136, 0.00099969, 0.00099897]),\n 'score_time': array([0.00199246, 0.00099707, 0.00100064, 0.00101423, 0.00100112]),\n 'test_score': array([0.42955615, 0.52259939, 0.48268054, 0.42649776, 0.55024834]),\n 'train_score': array([0.52428257, 0.51032125, 0.52379451, 0.53137766, 0.50775068])}"
     },
     "metadata": {},
     "output_type": "display_data"
    }
   ],
   "source": [
    "from sklearn.model_selection import cross_validate\n",
    "res = cross_validate(logreg, diabetes.data, diabetes.target, cv=5,\n",
    "                         return_train_score = True)\n",
    "display(res)"
   ],
   "metadata": {
    "collapsed": false,
    "ExecuteTime": {
     "end_time": "2023-12-05T09:59:14.808141100Z",
     "start_time": "2023-12-05T09:59:14.731450300Z"
    }
   },
   "id": "c90e0df6a9ef9fa8"
  },
  {
   "cell_type": "markdown",
   "source": [
    "## среднее время работы "
   ],
   "metadata": {
    "collapsed": false
   },
   "id": "44cc942c2aeb95cb"
  },
  {
   "cell_type": "code",
   "execution_count": 66,
   "outputs": [
    {
     "data": {
      "text/plain": "   fit_time  score_time  test_score  train_score\n0  0.002013    0.001992    0.429556     0.524283\n1  0.001002    0.000997    0.522599     0.510321\n2  0.001001    0.001001    0.482681     0.523795\n3  0.001000    0.001014    0.426498     0.531378\n4  0.000999    0.001001    0.550248     0.507751",
      "text/html": "<div>\n<style scoped>\n    .dataframe tbody tr th:only-of-type {\n        vertical-align: middle;\n    }\n\n    .dataframe tbody tr th {\n        vertical-align: top;\n    }\n\n    .dataframe thead th {\n        text-align: right;\n    }\n</style>\n<table border=\"1\" class=\"dataframe\">\n  <thead>\n    <tr style=\"text-align: right;\">\n      <th></th>\n      <th>fit_time</th>\n      <th>score_time</th>\n      <th>test_score</th>\n      <th>train_score</th>\n    </tr>\n  </thead>\n  <tbody>\n    <tr>\n      <th>0</th>\n      <td>0.002013</td>\n      <td>0.001992</td>\n      <td>0.429556</td>\n      <td>0.524283</td>\n    </tr>\n    <tr>\n      <th>1</th>\n      <td>0.001002</td>\n      <td>0.000997</td>\n      <td>0.522599</td>\n      <td>0.510321</td>\n    </tr>\n    <tr>\n      <th>2</th>\n      <td>0.001001</td>\n      <td>0.001001</td>\n      <td>0.482681</td>\n      <td>0.523795</td>\n    </tr>\n    <tr>\n      <th>3</th>\n      <td>0.001000</td>\n      <td>0.001014</td>\n      <td>0.426498</td>\n      <td>0.531378</td>\n    </tr>\n    <tr>\n      <th>4</th>\n      <td>0.000999</td>\n      <td>0.001001</td>\n      <td>0.550248</td>\n      <td>0.507751</td>\n    </tr>\n  </tbody>\n</table>\n</div>"
     },
     "metadata": {},
     "output_type": "display_data"
    },
    {
     "name": "stdout",
     "output_type": "stream",
     "text": [
      "Mean times and scores:\n",
      " fit_time       0.001203\n",
      "score_time     0.001201\n",
      "test_score     0.482316\n",
      "train_score    0.519505\n",
      "dtype: float64\n"
     ]
    }
   ],
   "source": [
    "res_df = pd.DataFrame(res)\n",
    "display(res_df)\n",
    "print(\"Mean times and scores:\\n\", res_df.mean())"
   ],
   "metadata": {
    "collapsed": false,
    "ExecuteTime": {
     "end_time": "2023-12-05T09:59:24.857706700Z",
     "start_time": "2023-12-05T09:59:24.839699500Z"
    }
   },
   "id": "3a5f53b695afaf51"
  },
  {
   "cell_type": "code",
   "execution_count": 67,
   "outputs": [],
   "source": [
    "## используем k-блочную проверку"
   ],
   "metadata": {
    "collapsed": false,
    "ExecuteTime": {
     "end_time": "2023-12-05T09:59:29.511295600Z",
     "start_time": "2023-12-05T09:59:29.488241900Z"
    }
   },
   "id": "dd265d17eb3b6df8"
  },
  {
   "cell_type": "code",
   "execution_count": 68,
   "outputs": [
    {
     "name": "stdout",
     "output_type": "stream",
     "text": [
      "Значения правильности перекрестной проверки: \n",
      "[0.40409883 0.52126483 0.54380121]\n"
     ]
    }
   ],
   "source": [
    "from sklearn.model_selection import KFold\n",
    "kfold = KFold(n_splits=3, shuffle=True, random_state=0)\n",
    "print(\"Значения правильности перекрестной проверки: \\n{}\".format(cross_val_score(logreg, diabetes.data, diabetes.target, cv = kfold)))"
   ],
   "metadata": {
    "collapsed": false,
    "ExecuteTime": {
     "end_time": "2023-12-05T09:59:29.948985100Z",
     "start_time": "2023-12-05T09:59:29.923808100Z"
    }
   },
   "id": "155a0bb7af0b94a3"
  },
  {
   "cell_type": "code",
   "execution_count": 70,
   "outputs": [],
   "source": [
    "## использование shuffle split валидации"
   ],
   "metadata": {
    "collapsed": false,
    "ExecuteTime": {
     "end_time": "2023-12-05T09:59:55.734300500Z",
     "start_time": "2023-12-05T09:59:55.707466400Z"
    }
   },
   "id": "82a8500e23395d95"
  },
  {
   "cell_type": "code",
   "execution_count": 71,
   "outputs": [
    {
     "name": "stdout",
     "output_type": "stream",
     "text": [
      "Значения правильности перекрестной проверки:\n",
      "[0.50070664 0.52649968 0.48236145 0.50511805 0.49927656 0.46019953\n",
      " 0.53672448 0.4241638  0.45502971 0.44688531]\n"
     ]
    }
   ],
   "source": [
    "from sklearn.model_selection import ShuffleSplit\n",
    "shufle_split = ShuffleSplit(test_size= .5, train_size= .5, n_splits=10)\n",
    "scores = cross_val_score(logreg, diabetes.data, diabetes.target, cv = shufle_split)\n",
    "print(\"Значения правильности перекрестной проверки:\\n{}\".format(scores))"
   ],
   "metadata": {
    "collapsed": false,
    "ExecuteTime": {
     "end_time": "2023-12-05T09:59:56.355582900Z",
     "start_time": "2023-12-05T09:59:56.301485600Z"
    }
   },
   "id": "70cb117bd9f6a5be"
  },
  {
   "cell_type": "markdown",
   "source": [
    "## Простой решетчатый поиск"
   ],
   "metadata": {
    "collapsed": false
   },
   "id": "9a65dd1aca02f42"
  },
  {
   "cell_type": "code",
   "execution_count": 72,
   "outputs": [
    {
     "name": "stdout",
     "output_type": "stream",
     "text": [
      "Размер обучающего набора: 309. Размер тестового набора: 133\n",
      "-0.0064816919034291764\n",
      "-0.006337492546915957\n",
      "-0.004890314222969261\n",
      "0.010988165705648756\n",
      "0.12651090305824964\n",
      "0.4466738051524025\n",
      "-0.0063707688185565825\n",
      "-0.005229688743283667\n",
      "0.007663887570103944\n",
      "0.10733798926461635\n",
      "0.4424772022336989\n",
      "0.47658178393615813\n",
      "-0.006285481223767597\n",
      "-0.004378893680444751\n",
      "0.01601426443457077\n",
      "0.16117357347723693\n",
      "0.498547080004888\n",
      "0.47699999381007263\n",
      "-0.006492099464803003\n",
      "-0.0064450830333100395\n",
      "-0.005971669996975848\n",
      "-0.0014211523037037654\n",
      "0.03968556810741297\n",
      "0.1999250896973972\n",
      "-0.006496618361537587\n",
      "-0.006492220062969123\n",
      "-0.006442854890317928\n",
      "-0.006278923890281396\n",
      "-0.006500692104129735\n",
      "-0.00011055888414657211\n",
      "-0.0064966195787370395\n",
      "-0.006492232236146034\n",
      "-0.006442976747329299\n",
      "-0.006280146375772233\n",
      "-0.006513399147304977\n",
      "-0.00014183471548068205\n",
      "Наилучшее значение правильности: 0.50\n",
      "Наилучшее значение параметров: {'C': 10, 'gamma': 0.1}\n"
     ]
    }
   ],
   "source": [
    "from sklearn.svm import SVC\n",
    "from sklearn.svm import SVR\n",
    "print(\"Размер обучающего набора: {}. Размер тестового набора: {}\".format(X_train.shape[0], X_test.shape[0]))\n",
    "best_score = 0\n",
    "for gamma in [0.001, 0.01, 0.1, 1, 10, 100]:\n",
    "    for C in [0.001, 0.01, 0.1, 1, 10, 100]:\n",
    "        # for each combinatino of parameters, train and SVC\n",
    "        svm = SVR(gamma = gamma, C = C)\n",
    "        svm.fit(X_train, y_train)\n",
    "        # evaluate the SVC on the test set\n",
    "        score = svm.score(X_test, y_test)\n",
    "        print(score)\n",
    "        # if we got a better score, store the score and parameter\n",
    "        if score > best_score:\n",
    "            best_score = score\n",
    "            best_parameters = {'C': C, 'gamma': gamma}\n",
    "print(\"Наилучшее значение правильности: {:.2f}\".format(best_score))\n",
    "print(\"Наилучшее значение параметров: {}\".format(best_parameters))"
   ],
   "metadata": {
    "collapsed": false,
    "ExecuteTime": {
     "end_time": "2023-12-05T10:00:00.693413900Z",
     "start_time": "2023-12-05T10:00:00.162191100Z"
    }
   },
   "id": "7bf8095828910166"
  },
  {
   "cell_type": "code",
   "execution_count": 73,
   "outputs": [
    {
     "name": "stdout",
     "output_type": "stream",
     "text": [
      "Размер обучающего набора: 248 размер проверочного набора: 83 размер тестового набора: 111\n",
      "Лучшее значение правильности на проверочном наборе: 0.62\n",
      "Наилучшие значения параметров:  {'C': 100, 'gamma': 0.1}\n",
      "Правильность на тестовом наборе с наилучшими параметрами: 0.21\n"
     ]
    }
   ],
   "source": [
    "# разбиваем данные на обучающий+проверочный набор и тестовый набор \n",
    "X_trainval, X_test, y_trainval, y_test = train_test_split(diabetes.data, diabetes.target, random_state=0) \n",
    "# разбиваем обучающий+проверочный набор на обучающий и проверочный наборы \n",
    "X_train, X_valid, y_train, y_valid = train_test_split(X_trainval, y_trainval, random_state=1) \n",
    "print(\"Размер обучающего набора: {} размер проверочного набора: {} размер тестового набора:\" \" {}\\n\".format(X_train.shape[0], X_valid.shape[0], X_test.shape[0])) \n",
    " \n",
    "best_score = 0 \n",
    "for gamma in [0.001, 0.01, 0.1, 1, 10, 100]:     \n",
    "    for C in [0.001, 0.01, 0.1, 1, 10, 100]: \n",
    "        # для каждой комбинации параметров обучаем SVC         \n",
    "        svm = SVR(gamma=gamma, C=C)         \n",
    "        svm.fit(X_train, y_train) \n",
    "        # оцениваем качество SVC на тестовом наборе         \n",
    "        score = svm.score(X_valid, y_valid) \n",
    "        # если получаем наилучшее значение правильности, сохраняем значение и параметры \n",
    "        if score > best_score:             \n",
    "            best_score = score \n",
    "            best_parameters = {'C': C, 'gamma': gamma} \n",
    "# заново строим модель на наборе, полученном в результате объединения обучающих\n",
    "# и проверочных данных, оцениваем качество модели на тестовом наборе \n",
    "svm = SVR(**best_parameters) \n",
    "svm.fit(X_trainval, y_trainval) \n",
    "test_score = svm.score(X_test, y_test) \n",
    "print(\"Лучшее значение правильности на проверочном наборе: {:.2f}\".format(best_score)) \n",
    "print(\"Наилучшие значения параметров: \", best_parameters) \n",
    "print(\"Правильность на тестовом наборе с наилучшими параметрами: {:.2f}\".format(test_score))  \n"
   ],
   "metadata": {
    "collapsed": false,
    "ExecuteTime": {
     "end_time": "2023-12-05T10:00:05.188058Z",
     "start_time": "2023-12-05T10:00:04.872795500Z"
    }
   },
   "id": "5786a85c0db800e"
  },
  {
   "cell_type": "code",
   "execution_count": 74,
   "outputs": [],
   "source": [
    "## Решетчатый поиск с перекрестной проверкой"
   ],
   "metadata": {
    "collapsed": false,
    "ExecuteTime": {
     "end_time": "2023-12-05T10:02:30.917893700Z",
     "start_time": "2023-12-05T10:02:30.900853200Z"
    }
   },
   "id": "131f5ac8eb63de03"
  },
  {
   "cell_type": "code",
   "execution_count": 75,
   "outputs": [
    {
     "data": {
      "text/plain": "SVR(C=100, gamma=0.1)",
      "text/html": "<style>#sk-container-id-2 {color: black;}#sk-container-id-2 pre{padding: 0;}#sk-container-id-2 div.sk-toggleable {background-color: white;}#sk-container-id-2 label.sk-toggleable__label {cursor: pointer;display: block;width: 100%;margin-bottom: 0;padding: 0.3em;box-sizing: border-box;text-align: center;}#sk-container-id-2 label.sk-toggleable__label-arrow:before {content: \"▸\";float: left;margin-right: 0.25em;color: #696969;}#sk-container-id-2 label.sk-toggleable__label-arrow:hover:before {color: black;}#sk-container-id-2 div.sk-estimator:hover label.sk-toggleable__label-arrow:before {color: black;}#sk-container-id-2 div.sk-toggleable__content {max-height: 0;max-width: 0;overflow: hidden;text-align: left;background-color: #f0f8ff;}#sk-container-id-2 div.sk-toggleable__content pre {margin: 0.2em;color: black;border-radius: 0.25em;background-color: #f0f8ff;}#sk-container-id-2 input.sk-toggleable__control:checked~div.sk-toggleable__content {max-height: 200px;max-width: 100%;overflow: auto;}#sk-container-id-2 input.sk-toggleable__control:checked~label.sk-toggleable__label-arrow:before {content: \"▾\";}#sk-container-id-2 div.sk-estimator input.sk-toggleable__control:checked~label.sk-toggleable__label {background-color: #d4ebff;}#sk-container-id-2 div.sk-label input.sk-toggleable__control:checked~label.sk-toggleable__label {background-color: #d4ebff;}#sk-container-id-2 input.sk-hidden--visually {border: 0;clip: rect(1px 1px 1px 1px);clip: rect(1px, 1px, 1px, 1px);height: 1px;margin: -1px;overflow: hidden;padding: 0;position: absolute;width: 1px;}#sk-container-id-2 div.sk-estimator {font-family: monospace;background-color: #f0f8ff;border: 1px dotted black;border-radius: 0.25em;box-sizing: border-box;margin-bottom: 0.5em;}#sk-container-id-2 div.sk-estimator:hover {background-color: #d4ebff;}#sk-container-id-2 div.sk-parallel-item::after {content: \"\";width: 100%;border-bottom: 1px solid gray;flex-grow: 1;}#sk-container-id-2 div.sk-label:hover label.sk-toggleable__label {background-color: #d4ebff;}#sk-container-id-2 div.sk-serial::before {content: \"\";position: absolute;border-left: 1px solid gray;box-sizing: border-box;top: 0;bottom: 0;left: 50%;z-index: 0;}#sk-container-id-2 div.sk-serial {display: flex;flex-direction: column;align-items: center;background-color: white;padding-right: 0.2em;padding-left: 0.2em;position: relative;}#sk-container-id-2 div.sk-item {position: relative;z-index: 1;}#sk-container-id-2 div.sk-parallel {display: flex;align-items: stretch;justify-content: center;background-color: white;position: relative;}#sk-container-id-2 div.sk-item::before, #sk-container-id-2 div.sk-parallel-item::before {content: \"\";position: absolute;border-left: 1px solid gray;box-sizing: border-box;top: 0;bottom: 0;left: 50%;z-index: -1;}#sk-container-id-2 div.sk-parallel-item {display: flex;flex-direction: column;z-index: 1;position: relative;background-color: white;}#sk-container-id-2 div.sk-parallel-item:first-child::after {align-self: flex-end;width: 50%;}#sk-container-id-2 div.sk-parallel-item:last-child::after {align-self: flex-start;width: 50%;}#sk-container-id-2 div.sk-parallel-item:only-child::after {width: 0;}#sk-container-id-2 div.sk-dashed-wrapped {border: 1px dashed gray;margin: 0 0.4em 0.5em 0.4em;box-sizing: border-box;padding-bottom: 0.4em;background-color: white;}#sk-container-id-2 div.sk-label label {font-family: monospace;font-weight: bold;display: inline-block;line-height: 1.2em;}#sk-container-id-2 div.sk-label-container {text-align: center;}#sk-container-id-2 div.sk-container {/* jupyter's `normalize.less` sets `[hidden] { display: none; }` but bootstrap.min.css set `[hidden] { display: none !important; }` so we also need the `!important` here to be able to override the default hidden behavior on the sphinx rendered scikit-learn.org. See: https://github.com/scikit-learn/scikit-learn/issues/21755 */display: inline-block !important;position: relative;}#sk-container-id-2 div.sk-text-repr-fallback {display: none;}</style><div id=\"sk-container-id-2\" class=\"sk-top-container\"><div class=\"sk-text-repr-fallback\"><pre>SVR(C=100, gamma=0.1)</pre><b>In a Jupyter environment, please rerun this cell to show the HTML representation or trust the notebook. <br />On GitHub, the HTML representation is unable to render, please try loading this page with nbviewer.org.</b></div><div class=\"sk-container\" hidden><div class=\"sk-item\"><div class=\"sk-estimator sk-toggleable\"><input class=\"sk-toggleable__control sk-hidden--visually\" id=\"sk-estimator-id-2\" type=\"checkbox\" checked><label for=\"sk-estimator-id-2\" class=\"sk-toggleable__label sk-toggleable__label-arrow\">SVR</label><div class=\"sk-toggleable__content\"><pre>SVR(C=100, gamma=0.1)</pre></div></div></div></div></div>"
     },
     "execution_count": 75,
     "metadata": {},
     "output_type": "execute_result"
    }
   ],
   "source": [
    "import numpy as np\n",
    "for gamma in [0.001, 0.01, 0.1, 1, 10, 100]:     \n",
    "    for C in [0.001, 0.01, 0.1, 1, 10, 100]: \n",
    "        # для каждой комбинации параметров обучаем SVC\n",
    "        svm = SVR(gamma=gamma, C=C) \n",
    "        # выполняем перекрестную проверку\n",
    "        scores = cross_val_score(svm, X_trainval, y_trainval, cv=5)\n",
    "        # вычисляем среднюю правильность перекрестной проверки\n",
    "        score = np.mean(scores)\n",
    "        # если получаем лучшее значение правильности, сохраняем значение и параметры\n",
    "        if score > best_score:             \n",
    "            best_score = score \n",
    "            best_parameters = {'C': C, 'gamma': gamma} \n",
    "# заново строи модель на наборе, полученном в результате объединения обучающих и проверочных данных\n",
    "svm = SVR(**best_parameters)\n",
    "svm.fit(X_trainval, y_trainval)"
   ],
   "metadata": {
    "collapsed": false,
    "ExecuteTime": {
     "end_time": "2023-12-05T10:02:33.360645500Z",
     "start_time": "2023-12-05T10:02:31.179192900Z"
    }
   },
   "id": "afd8b0f55a3b1642"
  },
  {
   "cell_type": "markdown",
   "source": [
    "## класс GridSearchCV"
   ],
   "metadata": {
    "collapsed": false
   },
   "id": "83b5553b3a3b413e"
  },
  {
   "cell_type": "code",
   "execution_count": 81,
   "outputs": [
    {
     "name": "stdout",
     "output_type": "stream",
     "text": [
      "Сетка параметров:\n",
      "{'C': [0.001, 0.01, 0.1, 1, 10, 100], 'gamma': [0.001, 0.01, 0.1, 1, 10, 100], 'kernel': ['linear', 'rbf']}\n"
     ]
    }
   ],
   "source": [
    "param_grid = {'C': [0.001, 0.01, 0.1, 1, 10, 100], \n",
    "              'gamma': [0.001, 0.01, 0.1, 1, 10, 100],\n",
    "              'kernel': ['linear', 'rbf']}\n",
    "print(\"Сетка параметров:\\n{}\".format(param_grid))"
   ],
   "metadata": {
    "collapsed": false,
    "ExecuteTime": {
     "end_time": "2023-12-05T10:08:39.219753200Z",
     "start_time": "2023-12-05T10:08:39.187713400Z"
    }
   },
   "id": "816ecbc0220ea371"
  },
  {
   "cell_type": "code",
   "execution_count": 82,
   "outputs": [],
   "source": [
    "from sklearn.model_selection import GridSearchCV\n",
    "grid_search = GridSearchCV(SVR(), param_grid, cv=5)"
   ],
   "metadata": {
    "collapsed": false,
    "ExecuteTime": {
     "end_time": "2023-12-05T10:08:40.900379900Z",
     "start_time": "2023-12-05T10:08:40.884367800Z"
    }
   },
   "id": "50d8ff54d994992"
  },
  {
   "cell_type": "code",
   "execution_count": 94,
   "outputs": [
    {
     "name": "stdout",
     "output_type": "stream",
     "text": [
      "Правильность на тестовом наборе:0.35\n",
      "Наилучшее значение параметров: {'C': 100, 'gamma': 0.01, 'kernel': 'rbf'}\n",
      "Наилучшее значение кросс-валидац. правильности: 0.4948773220738554\n",
      "Наилучшая модель: SVR(C=100, gamma=0.01)\n"
     ]
    }
   ],
   "source": [
    "grid_search.fit(X_train, y_train)\n",
    "print(\"Правильность на тестовом наборе:{:.2f}\".format(grid_search.score(X_test, y_test)))\n",
    "print(\"Наилучшее значение параметров: {}\".format(grid_search.best_params_))\n",
    "print(\"Наилучшее значение кросс-валидац. правильности: {}\".format(grid_search.best_score_))\n",
    "print(\"Наилучшая модель: {}\".format(grid_search.best_estimator_))"
   ],
   "metadata": {
    "collapsed": false,
    "ExecuteTime": {
     "end_time": "2023-12-05T10:16:19.719524200Z",
     "start_time": "2023-12-05T10:16:18.000363500Z"
    }
   },
   "id": "d9e90780010cf8ed"
  },
  {
   "cell_type": "markdown",
   "source": [
    "## Экономичный решетчатый поиск"
   ],
   "metadata": {
    "collapsed": false
   },
   "id": "36d623e4f1eadec5"
  },
  {
   "cell_type": "code",
   "execution_count": 85,
   "outputs": [
    {
     "name": "stdout",
     "output_type": "stream",
     "text": [
      "List of grids:\n",
      "[{'kernel': ['rbf'], 'C': [0.001, 0.01, 0.1, 1, 10, 100], 'gamma': [0.001, 0.01, 0.1, 1, 10, 100]}, {'kernel': ['linear'], 'C': [0.001, 0.01, 0.1, 1, 10, 100]}]\n"
     ]
    }
   ],
   "source": [
    "param_grid2 = [{'kernel': ['rbf'],\n",
    "                'C':[0.001, 0.01, 0.1, 1, 10, 100], \n",
    "                'gamma':[0.001, 0.01, 0.1, 1, 10, 100]},\n",
    "               {'kernel': ['linear'], \n",
    "                'C':[0.001, 0.01, 0.1, 1, 10, 100]}]\n",
    "print(\"List of grids:\\n{}\".format(param_grid2))"
   ],
   "metadata": {
    "collapsed": false,
    "ExecuteTime": {
     "end_time": "2023-12-05T10:12:17.925908Z",
     "start_time": "2023-12-05T10:12:17.894511800Z"
    }
   },
   "id": "75fe21a6508c7fd1"
  },
  {
   "cell_type": "code",
   "execution_count": 92,
   "outputs": [
    {
     "name": "stdout",
     "output_type": "stream",
     "text": [
      "Наилучшие значения параметров: {'C': 100, 'gamma': 0.01, 'kernel': 'rbf'}\n",
      "Наилучшие значения кросс-валид. правильности: 0.4948773220738554\n"
     ]
    }
   ],
   "source": [
    "grid_search2 = GridSearchCV(SVR(), param_grid2, cv=5)\n",
    "grid_search2.fit(X_train, y_train)\n",
    "print(\"Наилучшие значения параметров: {}\".format(grid_search2.best_params_))\n",
    "print(\"Наилучшие значения кросс-валид. правильности: {}\".format(grid_search2.best_score_))"
   ],
   "metadata": {
    "collapsed": false,
    "ExecuteTime": {
     "end_time": "2023-12-05T10:15:00.684031200Z",
     "start_time": "2023-12-05T10:14:59.116433500Z"
    }
   },
   "id": "d8b7643a991d6f70"
  },
  {
   "cell_type": "code",
   "execution_count": 87,
   "outputs": [
    {
     "data": {
      "text/plain": "    mean_fit_time  std_fit_time  mean_score_time  std_score_time param_C  \\\n0        0.006320      0.007742         0.000000        0.000000   0.001   \n1        0.006253      0.007659         0.000000        0.000000   0.001   \n2        0.000000      0.000000         0.003133        0.006266   0.001   \n3        0.003120      0.006241         0.000000        0.000000   0.001   \n4        0.004054      0.008109         0.002502        0.005004   0.001   \n5        0.003134      0.006268         0.000000        0.000000   0.001   \n6        0.000000      0.000000         0.006242        0.007645    0.01   \n7        0.004461      0.006158         0.004140        0.003726    0.01   \n8        0.003134      0.006268         0.000000        0.000000    0.01   \n9        0.003125      0.006250         0.000000        0.000000    0.01   \n10       0.000000      0.000000         0.003116        0.006232    0.01   \n11       0.000802      0.001604         0.002401        0.004803    0.01   \n12       0.047876      0.081584         0.003935        0.006934     0.1   \n13       0.025483      0.042839         0.012365        0.023260     0.1   \n14       0.007531      0.001870         0.000929        0.001502     0.1   \n15       0.003693      0.003754         0.004824        0.004529     0.1   \n16       0.004098      0.002075         0.004261        0.003548     0.1   \n17       0.006253      0.007659         0.003126        0.006251     0.1   \n18       0.000000      0.000000         0.003124        0.006249       1   \n19       0.000000      0.000000         0.006250        0.007654       1   \n20       0.000000      0.000000         0.003002        0.006003       1   \n21       0.003135      0.006270         0.003126        0.006251       1   \n22       0.000000      0.000000         0.003123        0.006247       1   \n23       0.004537      0.006183         0.003125        0.006251       1   \n24       0.000000      0.000000         0.004947        0.006412      10   \n25       0.003123      0.006247         0.000000        0.000000      10   \n26       0.000000      0.000000         0.003126        0.006251      10   \n27       0.003124      0.006248         0.003125        0.006250      10   \n28       0.005027      0.006164         0.001462        0.001829      10   \n29       0.003964      0.006071         0.000000        0.000000      10   \n30       0.003120      0.006240         0.003125        0.006250     100   \n31       0.003126      0.006252         0.000000        0.000000     100   \n32       0.003629      0.006082         0.000000        0.000000     100   \n33       0.000000      0.000000         0.000000        0.000000     100   \n34       0.006250      0.007654         0.003128        0.006255     100   \n35       0.005525      0.006862         0.000802        0.001605     100   \n36       0.003136      0.006273         0.000000        0.000000   0.001   \n37       0.000000      0.000000         0.003125        0.006250    0.01   \n38       0.003125      0.006249         0.000000        0.000000     0.1   \n39       0.003124      0.006249         0.000000        0.000000       1   \n40       0.003125      0.006250         0.000000        0.000000      10   \n41       0.009481      0.007743         0.000000        0.000000     100   \n\n   param_gamma param_kernel                                         params  \\\n0        0.001          rbf  {'C': 0.001, 'gamma': 0.001, 'kernel': 'rbf'}   \n1         0.01          rbf   {'C': 0.001, 'gamma': 0.01, 'kernel': 'rbf'}   \n2          0.1          rbf    {'C': 0.001, 'gamma': 0.1, 'kernel': 'rbf'}   \n3            1          rbf      {'C': 0.001, 'gamma': 1, 'kernel': 'rbf'}   \n4           10          rbf     {'C': 0.001, 'gamma': 10, 'kernel': 'rbf'}   \n5          100          rbf    {'C': 0.001, 'gamma': 100, 'kernel': 'rbf'}   \n6        0.001          rbf   {'C': 0.01, 'gamma': 0.001, 'kernel': 'rbf'}   \n7         0.01          rbf    {'C': 0.01, 'gamma': 0.01, 'kernel': 'rbf'}   \n8          0.1          rbf     {'C': 0.01, 'gamma': 0.1, 'kernel': 'rbf'}   \n9            1          rbf       {'C': 0.01, 'gamma': 1, 'kernel': 'rbf'}   \n10          10          rbf      {'C': 0.01, 'gamma': 10, 'kernel': 'rbf'}   \n11         100          rbf     {'C': 0.01, 'gamma': 100, 'kernel': 'rbf'}   \n12       0.001          rbf    {'C': 0.1, 'gamma': 0.001, 'kernel': 'rbf'}   \n13        0.01          rbf     {'C': 0.1, 'gamma': 0.01, 'kernel': 'rbf'}   \n14         0.1          rbf      {'C': 0.1, 'gamma': 0.1, 'kernel': 'rbf'}   \n15           1          rbf        {'C': 0.1, 'gamma': 1, 'kernel': 'rbf'}   \n16          10          rbf       {'C': 0.1, 'gamma': 10, 'kernel': 'rbf'}   \n17         100          rbf      {'C': 0.1, 'gamma': 100, 'kernel': 'rbf'}   \n18       0.001          rbf      {'C': 1, 'gamma': 0.001, 'kernel': 'rbf'}   \n19        0.01          rbf       {'C': 1, 'gamma': 0.01, 'kernel': 'rbf'}   \n20         0.1          rbf        {'C': 1, 'gamma': 0.1, 'kernel': 'rbf'}   \n21           1          rbf          {'C': 1, 'gamma': 1, 'kernel': 'rbf'}   \n22          10          rbf         {'C': 1, 'gamma': 10, 'kernel': 'rbf'}   \n23         100          rbf        {'C': 1, 'gamma': 100, 'kernel': 'rbf'}   \n24       0.001          rbf     {'C': 10, 'gamma': 0.001, 'kernel': 'rbf'}   \n25        0.01          rbf      {'C': 10, 'gamma': 0.01, 'kernel': 'rbf'}   \n26         0.1          rbf       {'C': 10, 'gamma': 0.1, 'kernel': 'rbf'}   \n27           1          rbf         {'C': 10, 'gamma': 1, 'kernel': 'rbf'}   \n28          10          rbf        {'C': 10, 'gamma': 10, 'kernel': 'rbf'}   \n29         100          rbf       {'C': 10, 'gamma': 100, 'kernel': 'rbf'}   \n30       0.001          rbf    {'C': 100, 'gamma': 0.001, 'kernel': 'rbf'}   \n31        0.01          rbf     {'C': 100, 'gamma': 0.01, 'kernel': 'rbf'}   \n32         0.1          rbf      {'C': 100, 'gamma': 0.1, 'kernel': 'rbf'}   \n33           1          rbf        {'C': 100, 'gamma': 1, 'kernel': 'rbf'}   \n34          10          rbf       {'C': 100, 'gamma': 10, 'kernel': 'rbf'}   \n35         100          rbf      {'C': 100, 'gamma': 100, 'kernel': 'rbf'}   \n36         NaN       linear               {'C': 0.001, 'kernel': 'linear'}   \n37         NaN       linear                {'C': 0.01, 'kernel': 'linear'}   \n38         NaN       linear                 {'C': 0.1, 'kernel': 'linear'}   \n39         NaN       linear                   {'C': 1, 'kernel': 'linear'}   \n40         NaN       linear                  {'C': 10, 'kernel': 'linear'}   \n41         NaN       linear                 {'C': 100, 'kernel': 'linear'}   \n\n    split0_test_score  split1_test_score  split2_test_score  \\\n0           -0.176312          -0.035205          -0.007031   \n1           -0.176285          -0.035144          -0.006949   \n2           -0.176250          -0.035099          -0.006910   \n3           -0.176315          -0.035211          -0.007042   \n4           -0.176316          -0.035214          -0.007044   \n5           -0.176316          -0.035214          -0.007044   \n6           -0.176279          -0.035126          -0.006921   \n7           -0.176004          -0.034517          -0.006098   \n8           -0.175657          -0.034068          -0.005710   \n9           -0.176305          -0.035188          -0.007026   \n10          -0.176316          -0.035214          -0.007044   \n11          -0.176316          -0.035214          -0.007044   \n12          -0.175949          -0.034338          -0.005820   \n13          -0.173302          -0.028308           0.002369   \n14          -0.169905          -0.023878           0.006204   \n15          -0.176203          -0.034958          -0.006868   \n16          -0.176316          -0.035214          -0.007043   \n17          -0.176316          -0.035214          -0.007044   \n18          -0.172821          -0.026550           0.005116   \n19          -0.101365           0.036107           0.078259   \n20          -0.068307           0.072705           0.111307   \n21          -0.176484          -0.033246          -0.005321   \n22          -0.178246          -0.036262          -0.007043   \n23          -0.178246          -0.036262          -0.007044   \n24          -0.074561           0.050411           0.100577   \n25           0.335293           0.299799           0.408635   \n26           0.445033           0.307904           0.479719   \n27          -0.169359          -0.017523           0.015315   \n28          -0.195653          -0.037638          -0.006203   \n29          -0.195655          -0.037631          -0.006215   \n30           0.386678           0.306865           0.420175   \n31           0.579160           0.263990           0.537067   \n32           0.443565           0.156792           0.491747   \n33           0.041448           0.069819           0.119457   \n34          -0.098613          -0.003085          -0.000034   \n35          -0.098661          -0.003092          -0.000037   \n36          -0.174489          -0.030741          -0.000760   \n37          -0.134829           0.011352           0.051366   \n38           0.216968           0.261454           0.349136   \n39           0.558250           0.286216           0.499400   \n40           0.545687           0.269710           0.505954   \n41           0.551495           0.236032           0.501229   \n\n    split3_test_score  split4_test_score  mean_test_score  std_test_score  \\\n0           -0.012370          -0.008210        -0.047826        0.065052   \n1           -0.012276          -0.008134        -0.047757        0.065073   \n2           -0.012241          -0.008101        -0.047720        0.065074   \n3           -0.012384          -0.008221        -0.047835        0.065048   \n4           -0.012386          -0.008222        -0.047836        0.065048   \n5           -0.012386          -0.008222        -0.047836        0.065048   \n6           -0.012243          -0.008106        -0.047735        0.065082   \n7           -0.011302          -0.007340        -0.047052        0.065296   \n8           -0.010952          -0.007011        -0.046679        0.065304   \n9           -0.012382          -0.008218        -0.047824        0.065048   \n10          -0.012406          -0.008222        -0.047840        0.065046   \n11          -0.012406          -0.008222        -0.047840        0.065046   \n12          -0.010970          -0.007069        -0.046829        0.065386   \n13          -0.002415           0.000561        -0.040219        0.067467   \n14           0.001465           0.003808        -0.036461        0.067596   \n15          -0.012355          -0.008188        -0.047714        0.065043   \n16          -0.012597          -0.008222        -0.047878        0.065025   \n17          -0.012597          -0.008222        -0.047878        0.065025   \n18           0.000652           0.003239        -0.038073        0.068354   \n19           0.087954           0.067022         0.033596        0.069696   \n20           0.115118           0.084895         0.063144        0.067624   \n21          -0.010759          -0.007259        -0.046614        0.065703   \n22          -0.013423          -0.008013        -0.048597        0.065684   \n23          -0.013422          -0.008009        -0.048596        0.065685   \n24           0.113805           0.088128         0.055672        0.068465   \n25           0.472228           0.391739         0.381539        0.059804   \n26           0.456554           0.479054         0.433653        0.064265   \n27           0.004212           0.004386        -0.032594        0.069209   \n28          -0.011306          -0.007665        -0.051693        0.072885   \n29          -0.011288          -0.007635        -0.051685        0.072890   \n30           0.503190           0.411501         0.405682        0.063052   \n31           0.564917           0.529253         0.494877        0.116859   \n32           0.464909           0.501408         0.411684        0.129058   \n33           0.076620           0.096061         0.080681        0.026130   \n34          -0.038432          -0.000289        -0.028090        0.038120   \n35          -0.038396          -0.000286        -0.028094        0.038135   \n36          -0.005648          -0.002294        -0.042786        0.066747   \n37           0.057131           0.044430         0.005890        0.072126   \n38           0.415553           0.324238         0.313470        0.069032   \n39           0.574645           0.514959         0.486694        0.103930   \n40           0.521879           0.493635         0.467373        0.100352   \n41           0.504699           0.481674         0.455026        0.111872   \n\n    rank_test_score  \n0                31  \n1                29  \n2                27  \n3                32  \n4                34  \n5                33  \n6                28  \n7                25  \n8                23  \n9                30  \n10               36  \n11               35  \n12               24  \n13               20  \n14               18  \n15               26  \n16               38  \n17               37  \n18               19  \n19               13  \n20               11  \n21               22  \n22               40  \n23               39  \n24               12  \n25                8  \n26                5  \n27               17  \n28               42  \n29               41  \n30                7  \n31                1  \n32                6  \n33               10  \n34               15  \n35               16  \n36               21  \n37               14  \n38                9  \n39                2  \n40                3  \n41                4  ",
      "text/html": "<div>\n<style scoped>\n    .dataframe tbody tr th:only-of-type {\n        vertical-align: middle;\n    }\n\n    .dataframe tbody tr th {\n        vertical-align: top;\n    }\n\n    .dataframe thead th {\n        text-align: right;\n    }\n</style>\n<table border=\"1\" class=\"dataframe\">\n  <thead>\n    <tr style=\"text-align: right;\">\n      <th></th>\n      <th>mean_fit_time</th>\n      <th>std_fit_time</th>\n      <th>mean_score_time</th>\n      <th>std_score_time</th>\n      <th>param_C</th>\n      <th>param_gamma</th>\n      <th>param_kernel</th>\n      <th>params</th>\n      <th>split0_test_score</th>\n      <th>split1_test_score</th>\n      <th>split2_test_score</th>\n      <th>split3_test_score</th>\n      <th>split4_test_score</th>\n      <th>mean_test_score</th>\n      <th>std_test_score</th>\n      <th>rank_test_score</th>\n    </tr>\n  </thead>\n  <tbody>\n    <tr>\n      <th>0</th>\n      <td>0.006320</td>\n      <td>0.007742</td>\n      <td>0.000000</td>\n      <td>0.000000</td>\n      <td>0.001</td>\n      <td>0.001</td>\n      <td>rbf</td>\n      <td>{'C': 0.001, 'gamma': 0.001, 'kernel': 'rbf'}</td>\n      <td>-0.176312</td>\n      <td>-0.035205</td>\n      <td>-0.007031</td>\n      <td>-0.012370</td>\n      <td>-0.008210</td>\n      <td>-0.047826</td>\n      <td>0.065052</td>\n      <td>31</td>\n    </tr>\n    <tr>\n      <th>1</th>\n      <td>0.006253</td>\n      <td>0.007659</td>\n      <td>0.000000</td>\n      <td>0.000000</td>\n      <td>0.001</td>\n      <td>0.01</td>\n      <td>rbf</td>\n      <td>{'C': 0.001, 'gamma': 0.01, 'kernel': 'rbf'}</td>\n      <td>-0.176285</td>\n      <td>-0.035144</td>\n      <td>-0.006949</td>\n      <td>-0.012276</td>\n      <td>-0.008134</td>\n      <td>-0.047757</td>\n      <td>0.065073</td>\n      <td>29</td>\n    </tr>\n    <tr>\n      <th>2</th>\n      <td>0.000000</td>\n      <td>0.000000</td>\n      <td>0.003133</td>\n      <td>0.006266</td>\n      <td>0.001</td>\n      <td>0.1</td>\n      <td>rbf</td>\n      <td>{'C': 0.001, 'gamma': 0.1, 'kernel': 'rbf'}</td>\n      <td>-0.176250</td>\n      <td>-0.035099</td>\n      <td>-0.006910</td>\n      <td>-0.012241</td>\n      <td>-0.008101</td>\n      <td>-0.047720</td>\n      <td>0.065074</td>\n      <td>27</td>\n    </tr>\n    <tr>\n      <th>3</th>\n      <td>0.003120</td>\n      <td>0.006241</td>\n      <td>0.000000</td>\n      <td>0.000000</td>\n      <td>0.001</td>\n      <td>1</td>\n      <td>rbf</td>\n      <td>{'C': 0.001, 'gamma': 1, 'kernel': 'rbf'}</td>\n      <td>-0.176315</td>\n      <td>-0.035211</td>\n      <td>-0.007042</td>\n      <td>-0.012384</td>\n      <td>-0.008221</td>\n      <td>-0.047835</td>\n      <td>0.065048</td>\n      <td>32</td>\n    </tr>\n    <tr>\n      <th>4</th>\n      <td>0.004054</td>\n      <td>0.008109</td>\n      <td>0.002502</td>\n      <td>0.005004</td>\n      <td>0.001</td>\n      <td>10</td>\n      <td>rbf</td>\n      <td>{'C': 0.001, 'gamma': 10, 'kernel': 'rbf'}</td>\n      <td>-0.176316</td>\n      <td>-0.035214</td>\n      <td>-0.007044</td>\n      <td>-0.012386</td>\n      <td>-0.008222</td>\n      <td>-0.047836</td>\n      <td>0.065048</td>\n      <td>34</td>\n    </tr>\n    <tr>\n      <th>5</th>\n      <td>0.003134</td>\n      <td>0.006268</td>\n      <td>0.000000</td>\n      <td>0.000000</td>\n      <td>0.001</td>\n      <td>100</td>\n      <td>rbf</td>\n      <td>{'C': 0.001, 'gamma': 100, 'kernel': 'rbf'}</td>\n      <td>-0.176316</td>\n      <td>-0.035214</td>\n      <td>-0.007044</td>\n      <td>-0.012386</td>\n      <td>-0.008222</td>\n      <td>-0.047836</td>\n      <td>0.065048</td>\n      <td>33</td>\n    </tr>\n    <tr>\n      <th>6</th>\n      <td>0.000000</td>\n      <td>0.000000</td>\n      <td>0.006242</td>\n      <td>0.007645</td>\n      <td>0.01</td>\n      <td>0.001</td>\n      <td>rbf</td>\n      <td>{'C': 0.01, 'gamma': 0.001, 'kernel': 'rbf'}</td>\n      <td>-0.176279</td>\n      <td>-0.035126</td>\n      <td>-0.006921</td>\n      <td>-0.012243</td>\n      <td>-0.008106</td>\n      <td>-0.047735</td>\n      <td>0.065082</td>\n      <td>28</td>\n    </tr>\n    <tr>\n      <th>7</th>\n      <td>0.004461</td>\n      <td>0.006158</td>\n      <td>0.004140</td>\n      <td>0.003726</td>\n      <td>0.01</td>\n      <td>0.01</td>\n      <td>rbf</td>\n      <td>{'C': 0.01, 'gamma': 0.01, 'kernel': 'rbf'}</td>\n      <td>-0.176004</td>\n      <td>-0.034517</td>\n      <td>-0.006098</td>\n      <td>-0.011302</td>\n      <td>-0.007340</td>\n      <td>-0.047052</td>\n      <td>0.065296</td>\n      <td>25</td>\n    </tr>\n    <tr>\n      <th>8</th>\n      <td>0.003134</td>\n      <td>0.006268</td>\n      <td>0.000000</td>\n      <td>0.000000</td>\n      <td>0.01</td>\n      <td>0.1</td>\n      <td>rbf</td>\n      <td>{'C': 0.01, 'gamma': 0.1, 'kernel': 'rbf'}</td>\n      <td>-0.175657</td>\n      <td>-0.034068</td>\n      <td>-0.005710</td>\n      <td>-0.010952</td>\n      <td>-0.007011</td>\n      <td>-0.046679</td>\n      <td>0.065304</td>\n      <td>23</td>\n    </tr>\n    <tr>\n      <th>9</th>\n      <td>0.003125</td>\n      <td>0.006250</td>\n      <td>0.000000</td>\n      <td>0.000000</td>\n      <td>0.01</td>\n      <td>1</td>\n      <td>rbf</td>\n      <td>{'C': 0.01, 'gamma': 1, 'kernel': 'rbf'}</td>\n      <td>-0.176305</td>\n      <td>-0.035188</td>\n      <td>-0.007026</td>\n      <td>-0.012382</td>\n      <td>-0.008218</td>\n      <td>-0.047824</td>\n      <td>0.065048</td>\n      <td>30</td>\n    </tr>\n    <tr>\n      <th>10</th>\n      <td>0.000000</td>\n      <td>0.000000</td>\n      <td>0.003116</td>\n      <td>0.006232</td>\n      <td>0.01</td>\n      <td>10</td>\n      <td>rbf</td>\n      <td>{'C': 0.01, 'gamma': 10, 'kernel': 'rbf'}</td>\n      <td>-0.176316</td>\n      <td>-0.035214</td>\n      <td>-0.007044</td>\n      <td>-0.012406</td>\n      <td>-0.008222</td>\n      <td>-0.047840</td>\n      <td>0.065046</td>\n      <td>36</td>\n    </tr>\n    <tr>\n      <th>11</th>\n      <td>0.000802</td>\n      <td>0.001604</td>\n      <td>0.002401</td>\n      <td>0.004803</td>\n      <td>0.01</td>\n      <td>100</td>\n      <td>rbf</td>\n      <td>{'C': 0.01, 'gamma': 100, 'kernel': 'rbf'}</td>\n      <td>-0.176316</td>\n      <td>-0.035214</td>\n      <td>-0.007044</td>\n      <td>-0.012406</td>\n      <td>-0.008222</td>\n      <td>-0.047840</td>\n      <td>0.065046</td>\n      <td>35</td>\n    </tr>\n    <tr>\n      <th>12</th>\n      <td>0.047876</td>\n      <td>0.081584</td>\n      <td>0.003935</td>\n      <td>0.006934</td>\n      <td>0.1</td>\n      <td>0.001</td>\n      <td>rbf</td>\n      <td>{'C': 0.1, 'gamma': 0.001, 'kernel': 'rbf'}</td>\n      <td>-0.175949</td>\n      <td>-0.034338</td>\n      <td>-0.005820</td>\n      <td>-0.010970</td>\n      <td>-0.007069</td>\n      <td>-0.046829</td>\n      <td>0.065386</td>\n      <td>24</td>\n    </tr>\n    <tr>\n      <th>13</th>\n      <td>0.025483</td>\n      <td>0.042839</td>\n      <td>0.012365</td>\n      <td>0.023260</td>\n      <td>0.1</td>\n      <td>0.01</td>\n      <td>rbf</td>\n      <td>{'C': 0.1, 'gamma': 0.01, 'kernel': 'rbf'}</td>\n      <td>-0.173302</td>\n      <td>-0.028308</td>\n      <td>0.002369</td>\n      <td>-0.002415</td>\n      <td>0.000561</td>\n      <td>-0.040219</td>\n      <td>0.067467</td>\n      <td>20</td>\n    </tr>\n    <tr>\n      <th>14</th>\n      <td>0.007531</td>\n      <td>0.001870</td>\n      <td>0.000929</td>\n      <td>0.001502</td>\n      <td>0.1</td>\n      <td>0.1</td>\n      <td>rbf</td>\n      <td>{'C': 0.1, 'gamma': 0.1, 'kernel': 'rbf'}</td>\n      <td>-0.169905</td>\n      <td>-0.023878</td>\n      <td>0.006204</td>\n      <td>0.001465</td>\n      <td>0.003808</td>\n      <td>-0.036461</td>\n      <td>0.067596</td>\n      <td>18</td>\n    </tr>\n    <tr>\n      <th>15</th>\n      <td>0.003693</td>\n      <td>0.003754</td>\n      <td>0.004824</td>\n      <td>0.004529</td>\n      <td>0.1</td>\n      <td>1</td>\n      <td>rbf</td>\n      <td>{'C': 0.1, 'gamma': 1, 'kernel': 'rbf'}</td>\n      <td>-0.176203</td>\n      <td>-0.034958</td>\n      <td>-0.006868</td>\n      <td>-0.012355</td>\n      <td>-0.008188</td>\n      <td>-0.047714</td>\n      <td>0.065043</td>\n      <td>26</td>\n    </tr>\n    <tr>\n      <th>16</th>\n      <td>0.004098</td>\n      <td>0.002075</td>\n      <td>0.004261</td>\n      <td>0.003548</td>\n      <td>0.1</td>\n      <td>10</td>\n      <td>rbf</td>\n      <td>{'C': 0.1, 'gamma': 10, 'kernel': 'rbf'}</td>\n      <td>-0.176316</td>\n      <td>-0.035214</td>\n      <td>-0.007043</td>\n      <td>-0.012597</td>\n      <td>-0.008222</td>\n      <td>-0.047878</td>\n      <td>0.065025</td>\n      <td>38</td>\n    </tr>\n    <tr>\n      <th>17</th>\n      <td>0.006253</td>\n      <td>0.007659</td>\n      <td>0.003126</td>\n      <td>0.006251</td>\n      <td>0.1</td>\n      <td>100</td>\n      <td>rbf</td>\n      <td>{'C': 0.1, 'gamma': 100, 'kernel': 'rbf'}</td>\n      <td>-0.176316</td>\n      <td>-0.035214</td>\n      <td>-0.007044</td>\n      <td>-0.012597</td>\n      <td>-0.008222</td>\n      <td>-0.047878</td>\n      <td>0.065025</td>\n      <td>37</td>\n    </tr>\n    <tr>\n      <th>18</th>\n      <td>0.000000</td>\n      <td>0.000000</td>\n      <td>0.003124</td>\n      <td>0.006249</td>\n      <td>1</td>\n      <td>0.001</td>\n      <td>rbf</td>\n      <td>{'C': 1, 'gamma': 0.001, 'kernel': 'rbf'}</td>\n      <td>-0.172821</td>\n      <td>-0.026550</td>\n      <td>0.005116</td>\n      <td>0.000652</td>\n      <td>0.003239</td>\n      <td>-0.038073</td>\n      <td>0.068354</td>\n      <td>19</td>\n    </tr>\n    <tr>\n      <th>19</th>\n      <td>0.000000</td>\n      <td>0.000000</td>\n      <td>0.006250</td>\n      <td>0.007654</td>\n      <td>1</td>\n      <td>0.01</td>\n      <td>rbf</td>\n      <td>{'C': 1, 'gamma': 0.01, 'kernel': 'rbf'}</td>\n      <td>-0.101365</td>\n      <td>0.036107</td>\n      <td>0.078259</td>\n      <td>0.087954</td>\n      <td>0.067022</td>\n      <td>0.033596</td>\n      <td>0.069696</td>\n      <td>13</td>\n    </tr>\n    <tr>\n      <th>20</th>\n      <td>0.000000</td>\n      <td>0.000000</td>\n      <td>0.003002</td>\n      <td>0.006003</td>\n      <td>1</td>\n      <td>0.1</td>\n      <td>rbf</td>\n      <td>{'C': 1, 'gamma': 0.1, 'kernel': 'rbf'}</td>\n      <td>-0.068307</td>\n      <td>0.072705</td>\n      <td>0.111307</td>\n      <td>0.115118</td>\n      <td>0.084895</td>\n      <td>0.063144</td>\n      <td>0.067624</td>\n      <td>11</td>\n    </tr>\n    <tr>\n      <th>21</th>\n      <td>0.003135</td>\n      <td>0.006270</td>\n      <td>0.003126</td>\n      <td>0.006251</td>\n      <td>1</td>\n      <td>1</td>\n      <td>rbf</td>\n      <td>{'C': 1, 'gamma': 1, 'kernel': 'rbf'}</td>\n      <td>-0.176484</td>\n      <td>-0.033246</td>\n      <td>-0.005321</td>\n      <td>-0.010759</td>\n      <td>-0.007259</td>\n      <td>-0.046614</td>\n      <td>0.065703</td>\n      <td>22</td>\n    </tr>\n    <tr>\n      <th>22</th>\n      <td>0.000000</td>\n      <td>0.000000</td>\n      <td>0.003123</td>\n      <td>0.006247</td>\n      <td>1</td>\n      <td>10</td>\n      <td>rbf</td>\n      <td>{'C': 1, 'gamma': 10, 'kernel': 'rbf'}</td>\n      <td>-0.178246</td>\n      <td>-0.036262</td>\n      <td>-0.007043</td>\n      <td>-0.013423</td>\n      <td>-0.008013</td>\n      <td>-0.048597</td>\n      <td>0.065684</td>\n      <td>40</td>\n    </tr>\n    <tr>\n      <th>23</th>\n      <td>0.004537</td>\n      <td>0.006183</td>\n      <td>0.003125</td>\n      <td>0.006251</td>\n      <td>1</td>\n      <td>100</td>\n      <td>rbf</td>\n      <td>{'C': 1, 'gamma': 100, 'kernel': 'rbf'}</td>\n      <td>-0.178246</td>\n      <td>-0.036262</td>\n      <td>-0.007044</td>\n      <td>-0.013422</td>\n      <td>-0.008009</td>\n      <td>-0.048596</td>\n      <td>0.065685</td>\n      <td>39</td>\n    </tr>\n    <tr>\n      <th>24</th>\n      <td>0.000000</td>\n      <td>0.000000</td>\n      <td>0.004947</td>\n      <td>0.006412</td>\n      <td>10</td>\n      <td>0.001</td>\n      <td>rbf</td>\n      <td>{'C': 10, 'gamma': 0.001, 'kernel': 'rbf'}</td>\n      <td>-0.074561</td>\n      <td>0.050411</td>\n      <td>0.100577</td>\n      <td>0.113805</td>\n      <td>0.088128</td>\n      <td>0.055672</td>\n      <td>0.068465</td>\n      <td>12</td>\n    </tr>\n    <tr>\n      <th>25</th>\n      <td>0.003123</td>\n      <td>0.006247</td>\n      <td>0.000000</td>\n      <td>0.000000</td>\n      <td>10</td>\n      <td>0.01</td>\n      <td>rbf</td>\n      <td>{'C': 10, 'gamma': 0.01, 'kernel': 'rbf'}</td>\n      <td>0.335293</td>\n      <td>0.299799</td>\n      <td>0.408635</td>\n      <td>0.472228</td>\n      <td>0.391739</td>\n      <td>0.381539</td>\n      <td>0.059804</td>\n      <td>8</td>\n    </tr>\n    <tr>\n      <th>26</th>\n      <td>0.000000</td>\n      <td>0.000000</td>\n      <td>0.003126</td>\n      <td>0.006251</td>\n      <td>10</td>\n      <td>0.1</td>\n      <td>rbf</td>\n      <td>{'C': 10, 'gamma': 0.1, 'kernel': 'rbf'}</td>\n      <td>0.445033</td>\n      <td>0.307904</td>\n      <td>0.479719</td>\n      <td>0.456554</td>\n      <td>0.479054</td>\n      <td>0.433653</td>\n      <td>0.064265</td>\n      <td>5</td>\n    </tr>\n    <tr>\n      <th>27</th>\n      <td>0.003124</td>\n      <td>0.006248</td>\n      <td>0.003125</td>\n      <td>0.006250</td>\n      <td>10</td>\n      <td>1</td>\n      <td>rbf</td>\n      <td>{'C': 10, 'gamma': 1, 'kernel': 'rbf'}</td>\n      <td>-0.169359</td>\n      <td>-0.017523</td>\n      <td>0.015315</td>\n      <td>0.004212</td>\n      <td>0.004386</td>\n      <td>-0.032594</td>\n      <td>0.069209</td>\n      <td>17</td>\n    </tr>\n    <tr>\n      <th>28</th>\n      <td>0.005027</td>\n      <td>0.006164</td>\n      <td>0.001462</td>\n      <td>0.001829</td>\n      <td>10</td>\n      <td>10</td>\n      <td>rbf</td>\n      <td>{'C': 10, 'gamma': 10, 'kernel': 'rbf'}</td>\n      <td>-0.195653</td>\n      <td>-0.037638</td>\n      <td>-0.006203</td>\n      <td>-0.011306</td>\n      <td>-0.007665</td>\n      <td>-0.051693</td>\n      <td>0.072885</td>\n      <td>42</td>\n    </tr>\n    <tr>\n      <th>29</th>\n      <td>0.003964</td>\n      <td>0.006071</td>\n      <td>0.000000</td>\n      <td>0.000000</td>\n      <td>10</td>\n      <td>100</td>\n      <td>rbf</td>\n      <td>{'C': 10, 'gamma': 100, 'kernel': 'rbf'}</td>\n      <td>-0.195655</td>\n      <td>-0.037631</td>\n      <td>-0.006215</td>\n      <td>-0.011288</td>\n      <td>-0.007635</td>\n      <td>-0.051685</td>\n      <td>0.072890</td>\n      <td>41</td>\n    </tr>\n    <tr>\n      <th>30</th>\n      <td>0.003120</td>\n      <td>0.006240</td>\n      <td>0.003125</td>\n      <td>0.006250</td>\n      <td>100</td>\n      <td>0.001</td>\n      <td>rbf</td>\n      <td>{'C': 100, 'gamma': 0.001, 'kernel': 'rbf'}</td>\n      <td>0.386678</td>\n      <td>0.306865</td>\n      <td>0.420175</td>\n      <td>0.503190</td>\n      <td>0.411501</td>\n      <td>0.405682</td>\n      <td>0.063052</td>\n      <td>7</td>\n    </tr>\n    <tr>\n      <th>31</th>\n      <td>0.003126</td>\n      <td>0.006252</td>\n      <td>0.000000</td>\n      <td>0.000000</td>\n      <td>100</td>\n      <td>0.01</td>\n      <td>rbf</td>\n      <td>{'C': 100, 'gamma': 0.01, 'kernel': 'rbf'}</td>\n      <td>0.579160</td>\n      <td>0.263990</td>\n      <td>0.537067</td>\n      <td>0.564917</td>\n      <td>0.529253</td>\n      <td>0.494877</td>\n      <td>0.116859</td>\n      <td>1</td>\n    </tr>\n    <tr>\n      <th>32</th>\n      <td>0.003629</td>\n      <td>0.006082</td>\n      <td>0.000000</td>\n      <td>0.000000</td>\n      <td>100</td>\n      <td>0.1</td>\n      <td>rbf</td>\n      <td>{'C': 100, 'gamma': 0.1, 'kernel': 'rbf'}</td>\n      <td>0.443565</td>\n      <td>0.156792</td>\n      <td>0.491747</td>\n      <td>0.464909</td>\n      <td>0.501408</td>\n      <td>0.411684</td>\n      <td>0.129058</td>\n      <td>6</td>\n    </tr>\n    <tr>\n      <th>33</th>\n      <td>0.000000</td>\n      <td>0.000000</td>\n      <td>0.000000</td>\n      <td>0.000000</td>\n      <td>100</td>\n      <td>1</td>\n      <td>rbf</td>\n      <td>{'C': 100, 'gamma': 1, 'kernel': 'rbf'}</td>\n      <td>0.041448</td>\n      <td>0.069819</td>\n      <td>0.119457</td>\n      <td>0.076620</td>\n      <td>0.096061</td>\n      <td>0.080681</td>\n      <td>0.026130</td>\n      <td>10</td>\n    </tr>\n    <tr>\n      <th>34</th>\n      <td>0.006250</td>\n      <td>0.007654</td>\n      <td>0.003128</td>\n      <td>0.006255</td>\n      <td>100</td>\n      <td>10</td>\n      <td>rbf</td>\n      <td>{'C': 100, 'gamma': 10, 'kernel': 'rbf'}</td>\n      <td>-0.098613</td>\n      <td>-0.003085</td>\n      <td>-0.000034</td>\n      <td>-0.038432</td>\n      <td>-0.000289</td>\n      <td>-0.028090</td>\n      <td>0.038120</td>\n      <td>15</td>\n    </tr>\n    <tr>\n      <th>35</th>\n      <td>0.005525</td>\n      <td>0.006862</td>\n      <td>0.000802</td>\n      <td>0.001605</td>\n      <td>100</td>\n      <td>100</td>\n      <td>rbf</td>\n      <td>{'C': 100, 'gamma': 100, 'kernel': 'rbf'}</td>\n      <td>-0.098661</td>\n      <td>-0.003092</td>\n      <td>-0.000037</td>\n      <td>-0.038396</td>\n      <td>-0.000286</td>\n      <td>-0.028094</td>\n      <td>0.038135</td>\n      <td>16</td>\n    </tr>\n    <tr>\n      <th>36</th>\n      <td>0.003136</td>\n      <td>0.006273</td>\n      <td>0.000000</td>\n      <td>0.000000</td>\n      <td>0.001</td>\n      <td>NaN</td>\n      <td>linear</td>\n      <td>{'C': 0.001, 'kernel': 'linear'}</td>\n      <td>-0.174489</td>\n      <td>-0.030741</td>\n      <td>-0.000760</td>\n      <td>-0.005648</td>\n      <td>-0.002294</td>\n      <td>-0.042786</td>\n      <td>0.066747</td>\n      <td>21</td>\n    </tr>\n    <tr>\n      <th>37</th>\n      <td>0.000000</td>\n      <td>0.000000</td>\n      <td>0.003125</td>\n      <td>0.006250</td>\n      <td>0.01</td>\n      <td>NaN</td>\n      <td>linear</td>\n      <td>{'C': 0.01, 'kernel': 'linear'}</td>\n      <td>-0.134829</td>\n      <td>0.011352</td>\n      <td>0.051366</td>\n      <td>0.057131</td>\n      <td>0.044430</td>\n      <td>0.005890</td>\n      <td>0.072126</td>\n      <td>14</td>\n    </tr>\n    <tr>\n      <th>38</th>\n      <td>0.003125</td>\n      <td>0.006249</td>\n      <td>0.000000</td>\n      <td>0.000000</td>\n      <td>0.1</td>\n      <td>NaN</td>\n      <td>linear</td>\n      <td>{'C': 0.1, 'kernel': 'linear'}</td>\n      <td>0.216968</td>\n      <td>0.261454</td>\n      <td>0.349136</td>\n      <td>0.415553</td>\n      <td>0.324238</td>\n      <td>0.313470</td>\n      <td>0.069032</td>\n      <td>9</td>\n    </tr>\n    <tr>\n      <th>39</th>\n      <td>0.003124</td>\n      <td>0.006249</td>\n      <td>0.000000</td>\n      <td>0.000000</td>\n      <td>1</td>\n      <td>NaN</td>\n      <td>linear</td>\n      <td>{'C': 1, 'kernel': 'linear'}</td>\n      <td>0.558250</td>\n      <td>0.286216</td>\n      <td>0.499400</td>\n      <td>0.574645</td>\n      <td>0.514959</td>\n      <td>0.486694</td>\n      <td>0.103930</td>\n      <td>2</td>\n    </tr>\n    <tr>\n      <th>40</th>\n      <td>0.003125</td>\n      <td>0.006250</td>\n      <td>0.000000</td>\n      <td>0.000000</td>\n      <td>10</td>\n      <td>NaN</td>\n      <td>linear</td>\n      <td>{'C': 10, 'kernel': 'linear'}</td>\n      <td>0.545687</td>\n      <td>0.269710</td>\n      <td>0.505954</td>\n      <td>0.521879</td>\n      <td>0.493635</td>\n      <td>0.467373</td>\n      <td>0.100352</td>\n      <td>3</td>\n    </tr>\n    <tr>\n      <th>41</th>\n      <td>0.009481</td>\n      <td>0.007743</td>\n      <td>0.000000</td>\n      <td>0.000000</td>\n      <td>100</td>\n      <td>NaN</td>\n      <td>linear</td>\n      <td>{'C': 100, 'kernel': 'linear'}</td>\n      <td>0.551495</td>\n      <td>0.236032</td>\n      <td>0.501229</td>\n      <td>0.504699</td>\n      <td>0.481674</td>\n      <td>0.455026</td>\n      <td>0.111872</td>\n      <td>4</td>\n    </tr>\n  </tbody>\n</table>\n</div>"
     },
     "execution_count": 87,
     "metadata": {},
     "output_type": "execute_result"
    }
   ],
   "source": [
    "results2 = pd.DataFrame(grid_search2.cv_results_)\n",
    "results2"
   ],
   "metadata": {
    "collapsed": false,
    "ExecuteTime": {
     "end_time": "2023-12-05T10:12:25.999053600Z",
     "start_time": "2023-12-05T10:12:25.936457700Z"
    }
   },
   "id": "138e38ecdd516174"
  },
  {
   "cell_type": "markdown",
   "source": [
    "## Вложенная перекрестная проверка"
   ],
   "metadata": {
    "collapsed": false
   },
   "id": "722b536ba0a5745a"
  },
  {
   "cell_type": "code",
   "execution_count": 88,
   "outputs": [
    {
     "name": "stdout",
     "output_type": "stream",
     "text": [
      "Значения правильности перекрестной проверки: [0.44136016 0.51605321 0.49626546 0.44422395 0.54979163]\n",
      "Среднее значение правильности перекрестной проверки: 0.4895388813821663\n"
     ]
    }
   ],
   "source": [
    "scores = cross_val_score(GridSearchCV(SVR(), param_grid2, cv=5), diabetes.data, diabetes.target, cv=5)\n",
    "print(\"Значения правильности перекрестной проверки: {}\".format(scores))\n",
    "print(\"Среднее значение правильности перекрестной проверки: {}\".format(scores.mean()))"
   ],
   "metadata": {
    "collapsed": false,
    "ExecuteTime": {
     "end_time": "2023-12-05T10:12:42.684332800Z",
     "start_time": "2023-12-05T10:12:34.187024100Z"
    }
   },
   "id": "7d00a75cba1eb064"
  },
  {
   "cell_type": "code",
   "execution_count": 26,
   "outputs": [],
   "source": [],
   "metadata": {
    "collapsed": false,
    "ExecuteTime": {
     "end_time": "2023-12-05T08:05:59.049604900Z",
     "start_time": "2023-12-05T08:05:59.041580600Z"
    }
   },
   "id": "1f7702cd728fb086"
  },
  {
   "cell_type": "code",
   "execution_count": 96,
   "outputs": [],
   "source": [
    "def nested_cv(X, y, inner_cv, outer_cv, Classifier, parameter_grid):\n",
    "    global best_params\n",
    "    outer_scores = []\n",
    "    # для каждого разбиения данных во внешней перекрестной проверке \n",
    "    # (метод split возвращает индексы)   \n",
    "    for training_samples, test_samples in outer_cv.split(X, y):\n",
    "        # находим наилучшие параметры с помощью внутренней перекрестной проверки  \n",
    "        best_parms = {}\n",
    "        best_score = -np.inf\n",
    "        # итерируем по параметрам   \n",
    "        for parameters in parameter_grid:\n",
    "             # собираем значения правильности по всем внутренним разбиениям \n",
    "            cv_scores = []\n",
    "             # итерируем по разбиениям внутренней перекрестной проверки \n",
    "            for inner_train, inner_test in inner_cv.split(\n",
    "                    X[training_samples], y[training_samples]):\n",
    "                # строим классификатор с данными параметрами на внутреннем обучающем наборе\n",
    "                clf = Classifier(**parameters)\n",
    "                clf.fit(X[inner_train], y[inner_train])\n",
    "               # оцениваем качество на внутреннем тестовом наборе\n",
    "                score = clf.score(X[inner_test], y[inner_test])\n",
    "                cv_scores.append(score)\n",
    "            # вычисляем среднее значение правильности по внутренним блокам\n",
    "            mean_score = np.mean(cv_scores)\n",
    "            if mean_score > best_score:\n",
    "                # если лучше, чем предыдущие, запоминаем параметры \n",
    "                best_score = mean_score\n",
    "                best_params = parameters\n",
    "        # строим классификатор с лучшими параметрами на внешнем обучающем наборе\n",
    "        clf = Classifier(**best_params)\n",
    "        clf.fit(X[training_samples], y[training_samples])\n",
    "        # оцениваем качество на внешнем тестовом наборе \n",
    "        outer_scores.append(clf.score(X[test_samples], y[test_samples]))\n",
    "    return np.array(outer_scores)\n"
   ],
   "metadata": {
    "collapsed": false,
    "ExecuteTime": {
     "end_time": "2023-12-05T10:17:59.957978300Z",
     "start_time": "2023-12-05T10:17:59.926210800Z"
    }
   },
   "id": "1824698df0eb8a3e"
  },
  {
   "cell_type": "code",
   "execution_count": 97,
   "outputs": [
    {
     "name": "stderr",
     "output_type": "stream",
     "text": [
      "C:\\Users\\user\\anaconda3\\Lib\\site-packages\\sklearn\\model_selection\\_split.py:725: UserWarning: The least populated class in y has only 1 members, which is less than n_splits=5.\n",
      "  warnings.warn(\n",
      "C:\\Users\\user\\anaconda3\\Lib\\site-packages\\sklearn\\model_selection\\_split.py:725: UserWarning: The least populated class in y has only 1 members, which is less than n_splits=5.\n",
      "  warnings.warn(\n",
      "C:\\Users\\user\\anaconda3\\Lib\\site-packages\\sklearn\\model_selection\\_split.py:725: UserWarning: The least populated class in y has only 1 members, which is less than n_splits=5.\n",
      "  warnings.warn(\n",
      "C:\\Users\\user\\anaconda3\\Lib\\site-packages\\sklearn\\model_selection\\_split.py:725: UserWarning: The least populated class in y has only 1 members, which is less than n_splits=5.\n",
      "  warnings.warn(\n",
      "C:\\Users\\user\\anaconda3\\Lib\\site-packages\\sklearn\\model_selection\\_split.py:725: UserWarning: The least populated class in y has only 1 members, which is less than n_splits=5.\n",
      "  warnings.warn(\n",
      "C:\\Users\\user\\anaconda3\\Lib\\site-packages\\sklearn\\model_selection\\_split.py:725: UserWarning: The least populated class in y has only 1 members, which is less than n_splits=5.\n",
      "  warnings.warn(\n",
      "C:\\Users\\user\\anaconda3\\Lib\\site-packages\\sklearn\\model_selection\\_split.py:725: UserWarning: The least populated class in y has only 1 members, which is less than n_splits=5.\n",
      "  warnings.warn(\n",
      "C:\\Users\\user\\anaconda3\\Lib\\site-packages\\sklearn\\model_selection\\_split.py:725: UserWarning: The least populated class in y has only 1 members, which is less than n_splits=5.\n",
      "  warnings.warn(\n",
      "C:\\Users\\user\\anaconda3\\Lib\\site-packages\\sklearn\\model_selection\\_split.py:725: UserWarning: The least populated class in y has only 1 members, which is less than n_splits=5.\n",
      "  warnings.warn(\n",
      "C:\\Users\\user\\anaconda3\\Lib\\site-packages\\sklearn\\model_selection\\_split.py:725: UserWarning: The least populated class in y has only 1 members, which is less than n_splits=5.\n",
      "  warnings.warn(\n",
      "C:\\Users\\user\\anaconda3\\Lib\\site-packages\\sklearn\\model_selection\\_split.py:725: UserWarning: The least populated class in y has only 1 members, which is less than n_splits=5.\n",
      "  warnings.warn(\n",
      "C:\\Users\\user\\anaconda3\\Lib\\site-packages\\sklearn\\model_selection\\_split.py:725: UserWarning: The least populated class in y has only 1 members, which is less than n_splits=5.\n",
      "  warnings.warn(\n",
      "C:\\Users\\user\\anaconda3\\Lib\\site-packages\\sklearn\\model_selection\\_split.py:725: UserWarning: The least populated class in y has only 1 members, which is less than n_splits=5.\n",
      "  warnings.warn(\n",
      "C:\\Users\\user\\anaconda3\\Lib\\site-packages\\sklearn\\model_selection\\_split.py:725: UserWarning: The least populated class in y has only 1 members, which is less than n_splits=5.\n",
      "  warnings.warn(\n",
      "C:\\Users\\user\\anaconda3\\Lib\\site-packages\\sklearn\\model_selection\\_split.py:725: UserWarning: The least populated class in y has only 1 members, which is less than n_splits=5.\n",
      "  warnings.warn(\n",
      "C:\\Users\\user\\anaconda3\\Lib\\site-packages\\sklearn\\model_selection\\_split.py:725: UserWarning: The least populated class in y has only 1 members, which is less than n_splits=5.\n",
      "  warnings.warn(\n",
      "C:\\Users\\user\\anaconda3\\Lib\\site-packages\\sklearn\\model_selection\\_split.py:725: UserWarning: The least populated class in y has only 1 members, which is less than n_splits=5.\n",
      "  warnings.warn(\n",
      "C:\\Users\\user\\anaconda3\\Lib\\site-packages\\sklearn\\model_selection\\_split.py:725: UserWarning: The least populated class in y has only 1 members, which is less than n_splits=5.\n",
      "  warnings.warn(\n",
      "C:\\Users\\user\\anaconda3\\Lib\\site-packages\\sklearn\\model_selection\\_split.py:725: UserWarning: The least populated class in y has only 1 members, which is less than n_splits=5.\n",
      "  warnings.warn(\n",
      "C:\\Users\\user\\anaconda3\\Lib\\site-packages\\sklearn\\model_selection\\_split.py:725: UserWarning: The least populated class in y has only 1 members, which is less than n_splits=5.\n",
      "  warnings.warn(\n",
      "C:\\Users\\user\\anaconda3\\Lib\\site-packages\\sklearn\\model_selection\\_split.py:725: UserWarning: The least populated class in y has only 1 members, which is less than n_splits=5.\n",
      "  warnings.warn(\n",
      "C:\\Users\\user\\anaconda3\\Lib\\site-packages\\sklearn\\model_selection\\_split.py:725: UserWarning: The least populated class in y has only 1 members, which is less than n_splits=5.\n",
      "  warnings.warn(\n",
      "C:\\Users\\user\\anaconda3\\Lib\\site-packages\\sklearn\\model_selection\\_split.py:725: UserWarning: The least populated class in y has only 1 members, which is less than n_splits=5.\n",
      "  warnings.warn(\n",
      "C:\\Users\\user\\anaconda3\\Lib\\site-packages\\sklearn\\model_selection\\_split.py:725: UserWarning: The least populated class in y has only 1 members, which is less than n_splits=5.\n",
      "  warnings.warn(\n",
      "C:\\Users\\user\\anaconda3\\Lib\\site-packages\\sklearn\\model_selection\\_split.py:725: UserWarning: The least populated class in y has only 1 members, which is less than n_splits=5.\n",
      "  warnings.warn(\n",
      "C:\\Users\\user\\anaconda3\\Lib\\site-packages\\sklearn\\model_selection\\_split.py:725: UserWarning: The least populated class in y has only 1 members, which is less than n_splits=5.\n",
      "  warnings.warn(\n",
      "C:\\Users\\user\\anaconda3\\Lib\\site-packages\\sklearn\\model_selection\\_split.py:725: UserWarning: The least populated class in y has only 1 members, which is less than n_splits=5.\n",
      "  warnings.warn(\n",
      "C:\\Users\\user\\anaconda3\\Lib\\site-packages\\sklearn\\model_selection\\_split.py:725: UserWarning: The least populated class in y has only 1 members, which is less than n_splits=5.\n",
      "  warnings.warn(\n",
      "C:\\Users\\user\\anaconda3\\Lib\\site-packages\\sklearn\\model_selection\\_split.py:725: UserWarning: The least populated class in y has only 1 members, which is less than n_splits=5.\n",
      "  warnings.warn(\n",
      "C:\\Users\\user\\anaconda3\\Lib\\site-packages\\sklearn\\model_selection\\_split.py:725: UserWarning: The least populated class in y has only 1 members, which is less than n_splits=5.\n",
      "  warnings.warn(\n",
      "C:\\Users\\user\\anaconda3\\Lib\\site-packages\\sklearn\\model_selection\\_split.py:725: UserWarning: The least populated class in y has only 1 members, which is less than n_splits=5.\n",
      "  warnings.warn(\n",
      "C:\\Users\\user\\anaconda3\\Lib\\site-packages\\sklearn\\model_selection\\_split.py:725: UserWarning: The least populated class in y has only 1 members, which is less than n_splits=5.\n",
      "  warnings.warn(\n",
      "C:\\Users\\user\\anaconda3\\Lib\\site-packages\\sklearn\\model_selection\\_split.py:725: UserWarning: The least populated class in y has only 1 members, which is less than n_splits=5.\n",
      "  warnings.warn(\n",
      "C:\\Users\\user\\anaconda3\\Lib\\site-packages\\sklearn\\model_selection\\_split.py:725: UserWarning: The least populated class in y has only 1 members, which is less than n_splits=5.\n",
      "  warnings.warn(\n",
      "C:\\Users\\user\\anaconda3\\Lib\\site-packages\\sklearn\\model_selection\\_split.py:725: UserWarning: The least populated class in y has only 1 members, which is less than n_splits=5.\n",
      "  warnings.warn(\n",
      "C:\\Users\\user\\anaconda3\\Lib\\site-packages\\sklearn\\model_selection\\_split.py:725: UserWarning: The least populated class in y has only 1 members, which is less than n_splits=5.\n",
      "  warnings.warn(\n",
      "C:\\Users\\user\\anaconda3\\Lib\\site-packages\\sklearn\\model_selection\\_split.py:725: UserWarning: The least populated class in y has only 1 members, which is less than n_splits=5.\n",
      "  warnings.warn(\n",
      "C:\\Users\\user\\anaconda3\\Lib\\site-packages\\sklearn\\model_selection\\_split.py:725: UserWarning: The least populated class in y has only 1 members, which is less than n_splits=5.\n",
      "  warnings.warn(\n",
      "C:\\Users\\user\\anaconda3\\Lib\\site-packages\\sklearn\\model_selection\\_split.py:725: UserWarning: The least populated class in y has only 1 members, which is less than n_splits=5.\n",
      "  warnings.warn(\n",
      "C:\\Users\\user\\anaconda3\\Lib\\site-packages\\sklearn\\model_selection\\_split.py:725: UserWarning: The least populated class in y has only 1 members, which is less than n_splits=5.\n",
      "  warnings.warn(\n",
      "C:\\Users\\user\\anaconda3\\Lib\\site-packages\\sklearn\\model_selection\\_split.py:725: UserWarning: The least populated class in y has only 1 members, which is less than n_splits=5.\n",
      "  warnings.warn(\n",
      "C:\\Users\\user\\anaconda3\\Lib\\site-packages\\sklearn\\model_selection\\_split.py:725: UserWarning: The least populated class in y has only 1 members, which is less than n_splits=5.\n",
      "  warnings.warn(\n",
      "C:\\Users\\user\\anaconda3\\Lib\\site-packages\\sklearn\\model_selection\\_split.py:725: UserWarning: The least populated class in y has only 1 members, which is less than n_splits=5.\n",
      "  warnings.warn(\n",
      "C:\\Users\\user\\anaconda3\\Lib\\site-packages\\sklearn\\model_selection\\_split.py:725: UserWarning: The least populated class in y has only 1 members, which is less than n_splits=5.\n",
      "  warnings.warn(\n",
      "C:\\Users\\user\\anaconda3\\Lib\\site-packages\\sklearn\\model_selection\\_split.py:725: UserWarning: The least populated class in y has only 1 members, which is less than n_splits=5.\n",
      "  warnings.warn(\n",
      "C:\\Users\\user\\anaconda3\\Lib\\site-packages\\sklearn\\model_selection\\_split.py:725: UserWarning: The least populated class in y has only 1 members, which is less than n_splits=5.\n",
      "  warnings.warn(\n",
      "C:\\Users\\user\\anaconda3\\Lib\\site-packages\\sklearn\\model_selection\\_split.py:725: UserWarning: The least populated class in y has only 1 members, which is less than n_splits=5.\n",
      "  warnings.warn(\n",
      "C:\\Users\\user\\anaconda3\\Lib\\site-packages\\sklearn\\model_selection\\_split.py:725: UserWarning: The least populated class in y has only 1 members, which is less than n_splits=5.\n",
      "  warnings.warn(\n",
      "C:\\Users\\user\\anaconda3\\Lib\\site-packages\\sklearn\\model_selection\\_split.py:725: UserWarning: The least populated class in y has only 1 members, which is less than n_splits=5.\n",
      "  warnings.warn(\n",
      "C:\\Users\\user\\anaconda3\\Lib\\site-packages\\sklearn\\model_selection\\_split.py:725: UserWarning: The least populated class in y has only 1 members, which is less than n_splits=5.\n",
      "  warnings.warn(\n",
      "C:\\Users\\user\\anaconda3\\Lib\\site-packages\\sklearn\\model_selection\\_split.py:725: UserWarning: The least populated class in y has only 1 members, which is less than n_splits=5.\n",
      "  warnings.warn(\n",
      "C:\\Users\\user\\anaconda3\\Lib\\site-packages\\sklearn\\model_selection\\_split.py:725: UserWarning: The least populated class in y has only 1 members, which is less than n_splits=5.\n",
      "  warnings.warn(\n",
      "C:\\Users\\user\\anaconda3\\Lib\\site-packages\\sklearn\\model_selection\\_split.py:725: UserWarning: The least populated class in y has only 1 members, which is less than n_splits=5.\n",
      "  warnings.warn(\n",
      "C:\\Users\\user\\anaconda3\\Lib\\site-packages\\sklearn\\model_selection\\_split.py:725: UserWarning: The least populated class in y has only 1 members, which is less than n_splits=5.\n",
      "  warnings.warn(\n",
      "C:\\Users\\user\\anaconda3\\Lib\\site-packages\\sklearn\\model_selection\\_split.py:725: UserWarning: The least populated class in y has only 1 members, which is less than n_splits=5.\n",
      "  warnings.warn(\n",
      "C:\\Users\\user\\anaconda3\\Lib\\site-packages\\sklearn\\model_selection\\_split.py:725: UserWarning: The least populated class in y has only 1 members, which is less than n_splits=5.\n",
      "  warnings.warn(\n",
      "C:\\Users\\user\\anaconda3\\Lib\\site-packages\\sklearn\\model_selection\\_split.py:725: UserWarning: The least populated class in y has only 1 members, which is less than n_splits=5.\n",
      "  warnings.warn(\n",
      "C:\\Users\\user\\anaconda3\\Lib\\site-packages\\sklearn\\model_selection\\_split.py:725: UserWarning: The least populated class in y has only 1 members, which is less than n_splits=5.\n",
      "  warnings.warn(\n",
      "C:\\Users\\user\\anaconda3\\Lib\\site-packages\\sklearn\\model_selection\\_split.py:725: UserWarning: The least populated class in y has only 1 members, which is less than n_splits=5.\n",
      "  warnings.warn(\n",
      "C:\\Users\\user\\anaconda3\\Lib\\site-packages\\sklearn\\model_selection\\_split.py:725: UserWarning: The least populated class in y has only 1 members, which is less than n_splits=5.\n",
      "  warnings.warn(\n",
      "C:\\Users\\user\\anaconda3\\Lib\\site-packages\\sklearn\\model_selection\\_split.py:725: UserWarning: The least populated class in y has only 1 members, which is less than n_splits=5.\n",
      "  warnings.warn(\n",
      "C:\\Users\\user\\anaconda3\\Lib\\site-packages\\sklearn\\model_selection\\_split.py:725: UserWarning: The least populated class in y has only 1 members, which is less than n_splits=5.\n",
      "  warnings.warn(\n",
      "C:\\Users\\user\\anaconda3\\Lib\\site-packages\\sklearn\\model_selection\\_split.py:725: UserWarning: The least populated class in y has only 1 members, which is less than n_splits=5.\n",
      "  warnings.warn(\n",
      "C:\\Users\\user\\anaconda3\\Lib\\site-packages\\sklearn\\model_selection\\_split.py:725: UserWarning: The least populated class in y has only 1 members, which is less than n_splits=5.\n",
      "  warnings.warn(\n",
      "C:\\Users\\user\\anaconda3\\Lib\\site-packages\\sklearn\\model_selection\\_split.py:725: UserWarning: The least populated class in y has only 1 members, which is less than n_splits=5.\n",
      "  warnings.warn(\n",
      "C:\\Users\\user\\anaconda3\\Lib\\site-packages\\sklearn\\model_selection\\_split.py:725: UserWarning: The least populated class in y has only 1 members, which is less than n_splits=5.\n",
      "  warnings.warn(\n",
      "C:\\Users\\user\\anaconda3\\Lib\\site-packages\\sklearn\\model_selection\\_split.py:725: UserWarning: The least populated class in y has only 1 members, which is less than n_splits=5.\n",
      "  warnings.warn(\n",
      "C:\\Users\\user\\anaconda3\\Lib\\site-packages\\sklearn\\model_selection\\_split.py:725: UserWarning: The least populated class in y has only 1 members, which is less than n_splits=5.\n",
      "  warnings.warn(\n",
      "C:\\Users\\user\\anaconda3\\Lib\\site-packages\\sklearn\\model_selection\\_split.py:725: UserWarning: The least populated class in y has only 1 members, which is less than n_splits=5.\n",
      "  warnings.warn(\n",
      "C:\\Users\\user\\anaconda3\\Lib\\site-packages\\sklearn\\model_selection\\_split.py:725: UserWarning: The least populated class in y has only 1 members, which is less than n_splits=5.\n",
      "  warnings.warn(\n",
      "C:\\Users\\user\\anaconda3\\Lib\\site-packages\\sklearn\\model_selection\\_split.py:725: UserWarning: The least populated class in y has only 1 members, which is less than n_splits=5.\n",
      "  warnings.warn(\n",
      "C:\\Users\\user\\anaconda3\\Lib\\site-packages\\sklearn\\model_selection\\_split.py:725: UserWarning: The least populated class in y has only 1 members, which is less than n_splits=5.\n",
      "  warnings.warn(\n",
      "C:\\Users\\user\\anaconda3\\Lib\\site-packages\\sklearn\\model_selection\\_split.py:725: UserWarning: The least populated class in y has only 1 members, which is less than n_splits=5.\n",
      "  warnings.warn(\n",
      "C:\\Users\\user\\anaconda3\\Lib\\site-packages\\sklearn\\model_selection\\_split.py:725: UserWarning: The least populated class in y has only 1 members, which is less than n_splits=5.\n",
      "  warnings.warn(\n",
      "C:\\Users\\user\\anaconda3\\Lib\\site-packages\\sklearn\\model_selection\\_split.py:725: UserWarning: The least populated class in y has only 1 members, which is less than n_splits=5.\n",
      "  warnings.warn(\n",
      "C:\\Users\\user\\anaconda3\\Lib\\site-packages\\sklearn\\model_selection\\_split.py:725: UserWarning: The least populated class in y has only 1 members, which is less than n_splits=5.\n",
      "  warnings.warn(\n",
      "C:\\Users\\user\\anaconda3\\Lib\\site-packages\\sklearn\\model_selection\\_split.py:725: UserWarning: The least populated class in y has only 1 members, which is less than n_splits=5.\n",
      "  warnings.warn(\n",
      "C:\\Users\\user\\anaconda3\\Lib\\site-packages\\sklearn\\model_selection\\_split.py:725: UserWarning: The least populated class in y has only 1 members, which is less than n_splits=5.\n",
      "  warnings.warn(\n",
      "C:\\Users\\user\\anaconda3\\Lib\\site-packages\\sklearn\\model_selection\\_split.py:725: UserWarning: The least populated class in y has only 1 members, which is less than n_splits=5.\n",
      "  warnings.warn(\n",
      "C:\\Users\\user\\anaconda3\\Lib\\site-packages\\sklearn\\model_selection\\_split.py:725: UserWarning: The least populated class in y has only 1 members, which is less than n_splits=5.\n",
      "  warnings.warn(\n",
      "C:\\Users\\user\\anaconda3\\Lib\\site-packages\\sklearn\\model_selection\\_split.py:725: UserWarning: The least populated class in y has only 1 members, which is less than n_splits=5.\n",
      "  warnings.warn(\n",
      "C:\\Users\\user\\anaconda3\\Lib\\site-packages\\sklearn\\model_selection\\_split.py:725: UserWarning: The least populated class in y has only 1 members, which is less than n_splits=5.\n",
      "  warnings.warn(\n",
      "C:\\Users\\user\\anaconda3\\Lib\\site-packages\\sklearn\\model_selection\\_split.py:725: UserWarning: The least populated class in y has only 1 members, which is less than n_splits=5.\n",
      "  warnings.warn(\n",
      "C:\\Users\\user\\anaconda3\\Lib\\site-packages\\sklearn\\model_selection\\_split.py:725: UserWarning: The least populated class in y has only 1 members, which is less than n_splits=5.\n",
      "  warnings.warn(\n",
      "C:\\Users\\user\\anaconda3\\Lib\\site-packages\\sklearn\\model_selection\\_split.py:725: UserWarning: The least populated class in y has only 1 members, which is less than n_splits=5.\n",
      "  warnings.warn(\n",
      "C:\\Users\\user\\anaconda3\\Lib\\site-packages\\sklearn\\model_selection\\_split.py:725: UserWarning: The least populated class in y has only 1 members, which is less than n_splits=5.\n",
      "  warnings.warn(\n",
      "C:\\Users\\user\\anaconda3\\Lib\\site-packages\\sklearn\\model_selection\\_split.py:725: UserWarning: The least populated class in y has only 1 members, which is less than n_splits=5.\n",
      "  warnings.warn(\n",
      "C:\\Users\\user\\anaconda3\\Lib\\site-packages\\sklearn\\model_selection\\_split.py:725: UserWarning: The least populated class in y has only 1 members, which is less than n_splits=5.\n",
      "  warnings.warn(\n",
      "C:\\Users\\user\\anaconda3\\Lib\\site-packages\\sklearn\\model_selection\\_split.py:725: UserWarning: The least populated class in y has only 1 members, which is less than n_splits=5.\n",
      "  warnings.warn(\n",
      "C:\\Users\\user\\anaconda3\\Lib\\site-packages\\sklearn\\model_selection\\_split.py:725: UserWarning: The least populated class in y has only 1 members, which is less than n_splits=5.\n",
      "  warnings.warn(\n",
      "C:\\Users\\user\\anaconda3\\Lib\\site-packages\\sklearn\\model_selection\\_split.py:725: UserWarning: The least populated class in y has only 1 members, which is less than n_splits=5.\n",
      "  warnings.warn(\n",
      "C:\\Users\\user\\anaconda3\\Lib\\site-packages\\sklearn\\model_selection\\_split.py:725: UserWarning: The least populated class in y has only 1 members, which is less than n_splits=5.\n",
      "  warnings.warn(\n",
      "C:\\Users\\user\\anaconda3\\Lib\\site-packages\\sklearn\\model_selection\\_split.py:725: UserWarning: The least populated class in y has only 1 members, which is less than n_splits=5.\n",
      "  warnings.warn(\n",
      "C:\\Users\\user\\anaconda3\\Lib\\site-packages\\sklearn\\model_selection\\_split.py:725: UserWarning: The least populated class in y has only 1 members, which is less than n_splits=5.\n",
      "  warnings.warn(\n",
      "C:\\Users\\user\\anaconda3\\Lib\\site-packages\\sklearn\\model_selection\\_split.py:725: UserWarning: The least populated class in y has only 1 members, which is less than n_splits=5.\n",
      "  warnings.warn(\n",
      "C:\\Users\\user\\anaconda3\\Lib\\site-packages\\sklearn\\model_selection\\_split.py:725: UserWarning: The least populated class in y has only 1 members, which is less than n_splits=5.\n",
      "  warnings.warn(\n",
      "C:\\Users\\user\\anaconda3\\Lib\\site-packages\\sklearn\\model_selection\\_split.py:725: UserWarning: The least populated class in y has only 1 members, which is less than n_splits=5.\n",
      "  warnings.warn(\n",
      "C:\\Users\\user\\anaconda3\\Lib\\site-packages\\sklearn\\model_selection\\_split.py:725: UserWarning: The least populated class in y has only 1 members, which is less than n_splits=5.\n",
      "  warnings.warn(\n",
      "C:\\Users\\user\\anaconda3\\Lib\\site-packages\\sklearn\\model_selection\\_split.py:725: UserWarning: The least populated class in y has only 1 members, which is less than n_splits=5.\n",
      "  warnings.warn(\n",
      "C:\\Users\\user\\anaconda3\\Lib\\site-packages\\sklearn\\model_selection\\_split.py:725: UserWarning: The least populated class in y has only 1 members, which is less than n_splits=5.\n",
      "  warnings.warn(\n",
      "C:\\Users\\user\\anaconda3\\Lib\\site-packages\\sklearn\\model_selection\\_split.py:725: UserWarning: The least populated class in y has only 1 members, which is less than n_splits=5.\n",
      "  warnings.warn(\n",
      "C:\\Users\\user\\anaconda3\\Lib\\site-packages\\sklearn\\model_selection\\_split.py:725: UserWarning: The least populated class in y has only 1 members, which is less than n_splits=5.\n",
      "  warnings.warn(\n",
      "C:\\Users\\user\\anaconda3\\Lib\\site-packages\\sklearn\\model_selection\\_split.py:725: UserWarning: The least populated class in y has only 1 members, which is less than n_splits=5.\n",
      "  warnings.warn(\n",
      "C:\\Users\\user\\anaconda3\\Lib\\site-packages\\sklearn\\model_selection\\_split.py:725: UserWarning: The least populated class in y has only 1 members, which is less than n_splits=5.\n",
      "  warnings.warn(\n",
      "C:\\Users\\user\\anaconda3\\Lib\\site-packages\\sklearn\\model_selection\\_split.py:725: UserWarning: The least populated class in y has only 1 members, which is less than n_splits=5.\n",
      "  warnings.warn(\n",
      "C:\\Users\\user\\anaconda3\\Lib\\site-packages\\sklearn\\model_selection\\_split.py:725: UserWarning: The least populated class in y has only 1 members, which is less than n_splits=5.\n",
      "  warnings.warn(\n",
      "C:\\Users\\user\\anaconda3\\Lib\\site-packages\\sklearn\\model_selection\\_split.py:725: UserWarning: The least populated class in y has only 1 members, which is less than n_splits=5.\n",
      "  warnings.warn(\n",
      "C:\\Users\\user\\anaconda3\\Lib\\site-packages\\sklearn\\model_selection\\_split.py:725: UserWarning: The least populated class in y has only 1 members, which is less than n_splits=5.\n",
      "  warnings.warn(\n",
      "C:\\Users\\user\\anaconda3\\Lib\\site-packages\\sklearn\\model_selection\\_split.py:725: UserWarning: The least populated class in y has only 1 members, which is less than n_splits=5.\n",
      "  warnings.warn(\n",
      "C:\\Users\\user\\anaconda3\\Lib\\site-packages\\sklearn\\model_selection\\_split.py:725: UserWarning: The least populated class in y has only 1 members, which is less than n_splits=5.\n",
      "  warnings.warn(\n",
      "C:\\Users\\user\\anaconda3\\Lib\\site-packages\\sklearn\\model_selection\\_split.py:725: UserWarning: The least populated class in y has only 1 members, which is less than n_splits=5.\n",
      "  warnings.warn(\n",
      "C:\\Users\\user\\anaconda3\\Lib\\site-packages\\sklearn\\model_selection\\_split.py:725: UserWarning: The least populated class in y has only 1 members, which is less than n_splits=5.\n",
      "  warnings.warn(\n",
      "C:\\Users\\user\\anaconda3\\Lib\\site-packages\\sklearn\\model_selection\\_split.py:725: UserWarning: The least populated class in y has only 1 members, which is less than n_splits=5.\n",
      "  warnings.warn(\n",
      "C:\\Users\\user\\anaconda3\\Lib\\site-packages\\sklearn\\model_selection\\_split.py:725: UserWarning: The least populated class in y has only 1 members, which is less than n_splits=5.\n",
      "  warnings.warn(\n",
      "C:\\Users\\user\\anaconda3\\Lib\\site-packages\\sklearn\\model_selection\\_split.py:725: UserWarning: The least populated class in y has only 1 members, which is less than n_splits=5.\n",
      "  warnings.warn(\n",
      "C:\\Users\\user\\anaconda3\\Lib\\site-packages\\sklearn\\model_selection\\_split.py:725: UserWarning: The least populated class in y has only 1 members, which is less than n_splits=5.\n",
      "  warnings.warn(\n",
      "C:\\Users\\user\\anaconda3\\Lib\\site-packages\\sklearn\\model_selection\\_split.py:725: UserWarning: The least populated class in y has only 1 members, which is less than n_splits=5.\n",
      "  warnings.warn(\n",
      "C:\\Users\\user\\anaconda3\\Lib\\site-packages\\sklearn\\model_selection\\_split.py:725: UserWarning: The least populated class in y has only 1 members, which is less than n_splits=5.\n",
      "  warnings.warn(\n",
      "C:\\Users\\user\\anaconda3\\Lib\\site-packages\\sklearn\\model_selection\\_split.py:725: UserWarning: The least populated class in y has only 1 members, which is less than n_splits=5.\n",
      "  warnings.warn(\n",
      "C:\\Users\\user\\anaconda3\\Lib\\site-packages\\sklearn\\model_selection\\_split.py:725: UserWarning: The least populated class in y has only 1 members, which is less than n_splits=5.\n",
      "  warnings.warn(\n",
      "C:\\Users\\user\\anaconda3\\Lib\\site-packages\\sklearn\\model_selection\\_split.py:725: UserWarning: The least populated class in y has only 1 members, which is less than n_splits=5.\n",
      "  warnings.warn(\n",
      "C:\\Users\\user\\anaconda3\\Lib\\site-packages\\sklearn\\model_selection\\_split.py:725: UserWarning: The least populated class in y has only 1 members, which is less than n_splits=5.\n",
      "  warnings.warn(\n",
      "C:\\Users\\user\\anaconda3\\Lib\\site-packages\\sklearn\\model_selection\\_split.py:725: UserWarning: The least populated class in y has only 1 members, which is less than n_splits=5.\n",
      "  warnings.warn(\n",
      "C:\\Users\\user\\anaconda3\\Lib\\site-packages\\sklearn\\model_selection\\_split.py:725: UserWarning: The least populated class in y has only 1 members, which is less than n_splits=5.\n",
      "  warnings.warn(\n",
      "C:\\Users\\user\\anaconda3\\Lib\\site-packages\\sklearn\\model_selection\\_split.py:725: UserWarning: The least populated class in y has only 1 members, which is less than n_splits=5.\n",
      "  warnings.warn(\n",
      "C:\\Users\\user\\anaconda3\\Lib\\site-packages\\sklearn\\model_selection\\_split.py:725: UserWarning: The least populated class in y has only 1 members, which is less than n_splits=5.\n",
      "  warnings.warn(\n",
      "C:\\Users\\user\\anaconda3\\Lib\\site-packages\\sklearn\\model_selection\\_split.py:725: UserWarning: The least populated class in y has only 1 members, which is less than n_splits=5.\n",
      "  warnings.warn(\n",
      "C:\\Users\\user\\anaconda3\\Lib\\site-packages\\sklearn\\model_selection\\_split.py:725: UserWarning: The least populated class in y has only 1 members, which is less than n_splits=5.\n",
      "  warnings.warn(\n",
      "C:\\Users\\user\\anaconda3\\Lib\\site-packages\\sklearn\\model_selection\\_split.py:725: UserWarning: The least populated class in y has only 1 members, which is less than n_splits=5.\n",
      "  warnings.warn(\n",
      "C:\\Users\\user\\anaconda3\\Lib\\site-packages\\sklearn\\model_selection\\_split.py:725: UserWarning: The least populated class in y has only 1 members, which is less than n_splits=5.\n",
      "  warnings.warn(\n",
      "C:\\Users\\user\\anaconda3\\Lib\\site-packages\\sklearn\\model_selection\\_split.py:725: UserWarning: The least populated class in y has only 1 members, which is less than n_splits=5.\n",
      "  warnings.warn(\n",
      "C:\\Users\\user\\anaconda3\\Lib\\site-packages\\sklearn\\model_selection\\_split.py:725: UserWarning: The least populated class in y has only 1 members, which is less than n_splits=5.\n",
      "  warnings.warn(\n",
      "C:\\Users\\user\\anaconda3\\Lib\\site-packages\\sklearn\\model_selection\\_split.py:725: UserWarning: The least populated class in y has only 1 members, which is less than n_splits=5.\n",
      "  warnings.warn(\n",
      "C:\\Users\\user\\anaconda3\\Lib\\site-packages\\sklearn\\model_selection\\_split.py:725: UserWarning: The least populated class in y has only 1 members, which is less than n_splits=5.\n",
      "  warnings.warn(\n",
      "C:\\Users\\user\\anaconda3\\Lib\\site-packages\\sklearn\\model_selection\\_split.py:725: UserWarning: The least populated class in y has only 1 members, which is less than n_splits=5.\n",
      "  warnings.warn(\n",
      "C:\\Users\\user\\anaconda3\\Lib\\site-packages\\sklearn\\model_selection\\_split.py:725: UserWarning: The least populated class in y has only 1 members, which is less than n_splits=5.\n",
      "  warnings.warn(\n",
      "C:\\Users\\user\\anaconda3\\Lib\\site-packages\\sklearn\\model_selection\\_split.py:725: UserWarning: The least populated class in y has only 1 members, which is less than n_splits=5.\n",
      "  warnings.warn(\n",
      "C:\\Users\\user\\anaconda3\\Lib\\site-packages\\sklearn\\model_selection\\_split.py:725: UserWarning: The least populated class in y has only 1 members, which is less than n_splits=5.\n",
      "  warnings.warn(\n",
      "C:\\Users\\user\\anaconda3\\Lib\\site-packages\\sklearn\\model_selection\\_split.py:725: UserWarning: The least populated class in y has only 1 members, which is less than n_splits=5.\n",
      "  warnings.warn(\n",
      "C:\\Users\\user\\anaconda3\\Lib\\site-packages\\sklearn\\model_selection\\_split.py:725: UserWarning: The least populated class in y has only 1 members, which is less than n_splits=5.\n",
      "  warnings.warn(\n",
      "C:\\Users\\user\\anaconda3\\Lib\\site-packages\\sklearn\\model_selection\\_split.py:725: UserWarning: The least populated class in y has only 1 members, which is less than n_splits=5.\n",
      "  warnings.warn(\n",
      "C:\\Users\\user\\anaconda3\\Lib\\site-packages\\sklearn\\model_selection\\_split.py:725: UserWarning: The least populated class in y has only 1 members, which is less than n_splits=5.\n",
      "  warnings.warn(\n",
      "C:\\Users\\user\\anaconda3\\Lib\\site-packages\\sklearn\\model_selection\\_split.py:725: UserWarning: The least populated class in y has only 1 members, which is less than n_splits=5.\n",
      "  warnings.warn(\n",
      "C:\\Users\\user\\anaconda3\\Lib\\site-packages\\sklearn\\model_selection\\_split.py:725: UserWarning: The least populated class in y has only 1 members, which is less than n_splits=5.\n",
      "  warnings.warn(\n",
      "C:\\Users\\user\\anaconda3\\Lib\\site-packages\\sklearn\\model_selection\\_split.py:725: UserWarning: The least populated class in y has only 1 members, which is less than n_splits=5.\n",
      "  warnings.warn(\n",
      "C:\\Users\\user\\anaconda3\\Lib\\site-packages\\sklearn\\model_selection\\_split.py:725: UserWarning: The least populated class in y has only 1 members, which is less than n_splits=5.\n",
      "  warnings.warn(\n",
      "C:\\Users\\user\\anaconda3\\Lib\\site-packages\\sklearn\\model_selection\\_split.py:725: UserWarning: The least populated class in y has only 1 members, which is less than n_splits=5.\n",
      "  warnings.warn(\n",
      "C:\\Users\\user\\anaconda3\\Lib\\site-packages\\sklearn\\model_selection\\_split.py:725: UserWarning: The least populated class in y has only 1 members, which is less than n_splits=5.\n",
      "  warnings.warn(\n",
      "C:\\Users\\user\\anaconda3\\Lib\\site-packages\\sklearn\\model_selection\\_split.py:725: UserWarning: The least populated class in y has only 1 members, which is less than n_splits=5.\n",
      "  warnings.warn(\n",
      "C:\\Users\\user\\anaconda3\\Lib\\site-packages\\sklearn\\model_selection\\_split.py:725: UserWarning: The least populated class in y has only 1 members, which is less than n_splits=5.\n",
      "  warnings.warn(\n",
      "C:\\Users\\user\\anaconda3\\Lib\\site-packages\\sklearn\\model_selection\\_split.py:725: UserWarning: The least populated class in y has only 1 members, which is less than n_splits=5.\n",
      "  warnings.warn(\n",
      "C:\\Users\\user\\anaconda3\\Lib\\site-packages\\sklearn\\model_selection\\_split.py:725: UserWarning: The least populated class in y has only 1 members, which is less than n_splits=5.\n",
      "  warnings.warn(\n",
      "C:\\Users\\user\\anaconda3\\Lib\\site-packages\\sklearn\\model_selection\\_split.py:725: UserWarning: The least populated class in y has only 1 members, which is less than n_splits=5.\n",
      "  warnings.warn(\n",
      "C:\\Users\\user\\anaconda3\\Lib\\site-packages\\sklearn\\model_selection\\_split.py:725: UserWarning: The least populated class in y has only 1 members, which is less than n_splits=5.\n",
      "  warnings.warn(\n",
      "C:\\Users\\user\\anaconda3\\Lib\\site-packages\\sklearn\\model_selection\\_split.py:725: UserWarning: The least populated class in y has only 1 members, which is less than n_splits=5.\n",
      "  warnings.warn(\n",
      "C:\\Users\\user\\anaconda3\\Lib\\site-packages\\sklearn\\model_selection\\_split.py:725: UserWarning: The least populated class in y has only 1 members, which is less than n_splits=5.\n",
      "  warnings.warn(\n",
      "C:\\Users\\user\\anaconda3\\Lib\\site-packages\\sklearn\\model_selection\\_split.py:725: UserWarning: The least populated class in y has only 1 members, which is less than n_splits=5.\n",
      "  warnings.warn(\n",
      "C:\\Users\\user\\anaconda3\\Lib\\site-packages\\sklearn\\model_selection\\_split.py:725: UserWarning: The least populated class in y has only 1 members, which is less than n_splits=5.\n",
      "  warnings.warn(\n",
      "C:\\Users\\user\\anaconda3\\Lib\\site-packages\\sklearn\\model_selection\\_split.py:725: UserWarning: The least populated class in y has only 1 members, which is less than n_splits=5.\n",
      "  warnings.warn(\n",
      "C:\\Users\\user\\anaconda3\\Lib\\site-packages\\sklearn\\model_selection\\_split.py:725: UserWarning: The least populated class in y has only 1 members, which is less than n_splits=5.\n",
      "  warnings.warn(\n",
      "C:\\Users\\user\\anaconda3\\Lib\\site-packages\\sklearn\\model_selection\\_split.py:725: UserWarning: The least populated class in y has only 1 members, which is less than n_splits=5.\n",
      "  warnings.warn(\n",
      "C:\\Users\\user\\anaconda3\\Lib\\site-packages\\sklearn\\model_selection\\_split.py:725: UserWarning: The least populated class in y has only 1 members, which is less than n_splits=5.\n",
      "  warnings.warn(\n",
      "C:\\Users\\user\\anaconda3\\Lib\\site-packages\\sklearn\\model_selection\\_split.py:725: UserWarning: The least populated class in y has only 1 members, which is less than n_splits=5.\n",
      "  warnings.warn(\n",
      "C:\\Users\\user\\anaconda3\\Lib\\site-packages\\sklearn\\model_selection\\_split.py:725: UserWarning: The least populated class in y has only 1 members, which is less than n_splits=5.\n",
      "  warnings.warn(\n",
      "C:\\Users\\user\\anaconda3\\Lib\\site-packages\\sklearn\\model_selection\\_split.py:725: UserWarning: The least populated class in y has only 1 members, which is less than n_splits=5.\n",
      "  warnings.warn(\n",
      "C:\\Users\\user\\anaconda3\\Lib\\site-packages\\sklearn\\model_selection\\_split.py:725: UserWarning: The least populated class in y has only 1 members, which is less than n_splits=5.\n",
      "  warnings.warn(\n",
      "C:\\Users\\user\\anaconda3\\Lib\\site-packages\\sklearn\\model_selection\\_split.py:725: UserWarning: The least populated class in y has only 1 members, which is less than n_splits=5.\n",
      "  warnings.warn(\n",
      "C:\\Users\\user\\anaconda3\\Lib\\site-packages\\sklearn\\model_selection\\_split.py:725: UserWarning: The least populated class in y has only 1 members, which is less than n_splits=5.\n",
      "  warnings.warn(\n",
      "C:\\Users\\user\\anaconda3\\Lib\\site-packages\\sklearn\\model_selection\\_split.py:725: UserWarning: The least populated class in y has only 1 members, which is less than n_splits=5.\n",
      "  warnings.warn(\n",
      "C:\\Users\\user\\anaconda3\\Lib\\site-packages\\sklearn\\model_selection\\_split.py:725: UserWarning: The least populated class in y has only 1 members, which is less than n_splits=5.\n",
      "  warnings.warn(\n",
      "C:\\Users\\user\\anaconda3\\Lib\\site-packages\\sklearn\\model_selection\\_split.py:725: UserWarning: The least populated class in y has only 1 members, which is less than n_splits=5.\n",
      "  warnings.warn(\n",
      "C:\\Users\\user\\anaconda3\\Lib\\site-packages\\sklearn\\model_selection\\_split.py:725: UserWarning: The least populated class in y has only 1 members, which is less than n_splits=5.\n",
      "  warnings.warn(\n",
      "C:\\Users\\user\\anaconda3\\Lib\\site-packages\\sklearn\\model_selection\\_split.py:725: UserWarning: The least populated class in y has only 1 members, which is less than n_splits=5.\n",
      "  warnings.warn(\n",
      "C:\\Users\\user\\anaconda3\\Lib\\site-packages\\sklearn\\model_selection\\_split.py:725: UserWarning: The least populated class in y has only 1 members, which is less than n_splits=5.\n",
      "  warnings.warn(\n",
      "C:\\Users\\user\\anaconda3\\Lib\\site-packages\\sklearn\\model_selection\\_split.py:725: UserWarning: The least populated class in y has only 1 members, which is less than n_splits=5.\n",
      "  warnings.warn(\n",
      "C:\\Users\\user\\anaconda3\\Lib\\site-packages\\sklearn\\model_selection\\_split.py:725: UserWarning: The least populated class in y has only 1 members, which is less than n_splits=5.\n",
      "  warnings.warn(\n",
      "C:\\Users\\user\\anaconda3\\Lib\\site-packages\\sklearn\\model_selection\\_split.py:725: UserWarning: The least populated class in y has only 1 members, which is less than n_splits=5.\n",
      "  warnings.warn(\n",
      "C:\\Users\\user\\anaconda3\\Lib\\site-packages\\sklearn\\model_selection\\_split.py:725: UserWarning: The least populated class in y has only 1 members, which is less than n_splits=5.\n",
      "  warnings.warn(\n",
      "C:\\Users\\user\\anaconda3\\Lib\\site-packages\\sklearn\\model_selection\\_split.py:725: UserWarning: The least populated class in y has only 1 members, which is less than n_splits=5.\n",
      "  warnings.warn(\n",
      "C:\\Users\\user\\anaconda3\\Lib\\site-packages\\sklearn\\model_selection\\_split.py:725: UserWarning: The least populated class in y has only 1 members, which is less than n_splits=5.\n",
      "  warnings.warn(\n",
      "C:\\Users\\user\\anaconda3\\Lib\\site-packages\\sklearn\\model_selection\\_split.py:725: UserWarning: The least populated class in y has only 1 members, which is less than n_splits=5.\n",
      "  warnings.warn(\n",
      "C:\\Users\\user\\anaconda3\\Lib\\site-packages\\sklearn\\model_selection\\_split.py:725: UserWarning: The least populated class in y has only 1 members, which is less than n_splits=5.\n",
      "  warnings.warn(\n",
      "C:\\Users\\user\\anaconda3\\Lib\\site-packages\\sklearn\\model_selection\\_split.py:725: UserWarning: The least populated class in y has only 1 members, which is less than n_splits=5.\n",
      "  warnings.warn(\n",
      "C:\\Users\\user\\anaconda3\\Lib\\site-packages\\sklearn\\model_selection\\_split.py:725: UserWarning: The least populated class in y has only 1 members, which is less than n_splits=5.\n",
      "  warnings.warn(\n",
      "C:\\Users\\user\\anaconda3\\Lib\\site-packages\\sklearn\\model_selection\\_split.py:725: UserWarning: The least populated class in y has only 1 members, which is less than n_splits=5.\n",
      "  warnings.warn(\n",
      "C:\\Users\\user\\anaconda3\\Lib\\site-packages\\sklearn\\model_selection\\_split.py:725: UserWarning: The least populated class in y has only 1 members, which is less than n_splits=5.\n",
      "  warnings.warn(\n",
      "C:\\Users\\user\\anaconda3\\Lib\\site-packages\\sklearn\\model_selection\\_split.py:725: UserWarning: The least populated class in y has only 1 members, which is less than n_splits=5.\n",
      "  warnings.warn(\n",
      "C:\\Users\\user\\anaconda3\\Lib\\site-packages\\sklearn\\model_selection\\_split.py:725: UserWarning: The least populated class in y has only 1 members, which is less than n_splits=5.\n",
      "  warnings.warn(\n",
      "C:\\Users\\user\\anaconda3\\Lib\\site-packages\\sklearn\\model_selection\\_split.py:725: UserWarning: The least populated class in y has only 1 members, which is less than n_splits=5.\n",
      "  warnings.warn(\n",
      "C:\\Users\\user\\anaconda3\\Lib\\site-packages\\sklearn\\model_selection\\_split.py:725: UserWarning: The least populated class in y has only 1 members, which is less than n_splits=5.\n",
      "  warnings.warn(\n",
      "C:\\Users\\user\\anaconda3\\Lib\\site-packages\\sklearn\\model_selection\\_split.py:725: UserWarning: The least populated class in y has only 1 members, which is less than n_splits=5.\n",
      "  warnings.warn(\n",
      "C:\\Users\\user\\anaconda3\\Lib\\site-packages\\sklearn\\model_selection\\_split.py:725: UserWarning: The least populated class in y has only 1 members, which is less than n_splits=5.\n",
      "  warnings.warn(\n",
      "C:\\Users\\user\\anaconda3\\Lib\\site-packages\\sklearn\\model_selection\\_split.py:725: UserWarning: The least populated class in y has only 1 members, which is less than n_splits=5.\n",
      "  warnings.warn(\n",
      "C:\\Users\\user\\anaconda3\\Lib\\site-packages\\sklearn\\model_selection\\_split.py:725: UserWarning: The least populated class in y has only 1 members, which is less than n_splits=5.\n",
      "  warnings.warn(\n",
      "C:\\Users\\user\\anaconda3\\Lib\\site-packages\\sklearn\\model_selection\\_split.py:725: UserWarning: The least populated class in y has only 1 members, which is less than n_splits=5.\n",
      "  warnings.warn(\n",
      "C:\\Users\\user\\anaconda3\\Lib\\site-packages\\sklearn\\model_selection\\_split.py:725: UserWarning: The least populated class in y has only 1 members, which is less than n_splits=5.\n",
      "  warnings.warn(\n",
      "C:\\Users\\user\\anaconda3\\Lib\\site-packages\\sklearn\\model_selection\\_split.py:725: UserWarning: The least populated class in y has only 1 members, which is less than n_splits=5.\n",
      "  warnings.warn(\n",
      "C:\\Users\\user\\anaconda3\\Lib\\site-packages\\sklearn\\model_selection\\_split.py:725: UserWarning: The least populated class in y has only 1 members, which is less than n_splits=5.\n",
      "  warnings.warn(\n",
      "C:\\Users\\user\\anaconda3\\Lib\\site-packages\\sklearn\\model_selection\\_split.py:725: UserWarning: The least populated class in y has only 1 members, which is less than n_splits=5.\n",
      "  warnings.warn(\n",
      "C:\\Users\\user\\anaconda3\\Lib\\site-packages\\sklearn\\model_selection\\_split.py:725: UserWarning: The least populated class in y has only 1 members, which is less than n_splits=5.\n",
      "  warnings.warn(\n",
      "C:\\Users\\user\\anaconda3\\Lib\\site-packages\\sklearn\\model_selection\\_split.py:725: UserWarning: The least populated class in y has only 1 members, which is less than n_splits=5.\n",
      "  warnings.warn(\n",
      "C:\\Users\\user\\anaconda3\\Lib\\site-packages\\sklearn\\model_selection\\_split.py:725: UserWarning: The least populated class in y has only 1 members, which is less than n_splits=5.\n",
      "  warnings.warn(\n",
      "C:\\Users\\user\\anaconda3\\Lib\\site-packages\\sklearn\\model_selection\\_split.py:725: UserWarning: The least populated class in y has only 1 members, which is less than n_splits=5.\n",
      "  warnings.warn(\n",
      "C:\\Users\\user\\anaconda3\\Lib\\site-packages\\sklearn\\model_selection\\_split.py:725: UserWarning: The least populated class in y has only 1 members, which is less than n_splits=5.\n",
      "  warnings.warn(\n",
      "C:\\Users\\user\\anaconda3\\Lib\\site-packages\\sklearn\\model_selection\\_split.py:725: UserWarning: The least populated class in y has only 1 members, which is less than n_splits=5.\n",
      "  warnings.warn(\n",
      "C:\\Users\\user\\anaconda3\\Lib\\site-packages\\sklearn\\model_selection\\_split.py:725: UserWarning: The least populated class in y has only 1 members, which is less than n_splits=5.\n",
      "  warnings.warn(\n",
      "C:\\Users\\user\\anaconda3\\Lib\\site-packages\\sklearn\\model_selection\\_split.py:725: UserWarning: The least populated class in y has only 1 members, which is less than n_splits=5.\n",
      "  warnings.warn(\n",
      "C:\\Users\\user\\anaconda3\\Lib\\site-packages\\sklearn\\model_selection\\_split.py:725: UserWarning: The least populated class in y has only 1 members, which is less than n_splits=5.\n",
      "  warnings.warn(\n",
      "C:\\Users\\user\\anaconda3\\Lib\\site-packages\\sklearn\\model_selection\\_split.py:725: UserWarning: The least populated class in y has only 1 members, which is less than n_splits=5.\n",
      "  warnings.warn(\n",
      "C:\\Users\\user\\anaconda3\\Lib\\site-packages\\sklearn\\model_selection\\_split.py:725: UserWarning: The least populated class in y has only 1 members, which is less than n_splits=5.\n",
      "  warnings.warn(\n",
      "C:\\Users\\user\\anaconda3\\Lib\\site-packages\\sklearn\\model_selection\\_split.py:725: UserWarning: The least populated class in y has only 1 members, which is less than n_splits=5.\n",
      "  warnings.warn(\n"
     ]
    },
    {
     "name": "stdout",
     "output_type": "stream",
     "text": [
      "Значения правильности перекрестной проверки: [0.40569525 0.51075746 0.51861947 0.45594695 0.55634517]\n"
     ]
    }
   ],
   "source": [
    "from sklearn.model_selection import ParameterGrid, StratifiedKFold\n",
    "scores = nested_cv(diabetes.data, diabetes.target, StratifiedKFold(5), StratifiedKFold(5), SVR, ParameterGrid(param_grid2))\n",
    "print(\"Значения правильности перекрестной проверки: {}\".format(scores))"
   ],
   "metadata": {
    "collapsed": false,
    "ExecuteTime": {
     "end_time": "2023-12-05T10:18:09.994097700Z",
     "start_time": "2023-12-05T10:18:00.869275400Z"
    }
   },
   "id": "da014bc1bc1099f6"
  },
  {
   "cell_type": "markdown",
   "source": [
    "## Метрики качества моделей и их вычисление"
   ],
   "metadata": {
    "collapsed": false
   },
   "id": "17e5f7b0fd22394c"
  },
  {
   "cell_type": "code",
   "execution_count": 107,
   "outputs": [
    {
     "name": "stdout",
     "output_type": "stream",
     "text": [
      "R^2 (R²): 0.3522\n",
      "Корень средней квадратной ошибки (RMSE): 56.7074\n",
      "Средний процент ошибки (MPE): -19.6142%\n"
     ]
    }
   ],
   "source": [
    "from sklearn.model_selection import cross_val_predict\n",
    "from sklearn.metrics import r2_score, mean_squared_error\n",
    "\n",
    "# здесь берем лучшую модель\n",
    "best_model = grid_search2.best_estimator_\n",
    "# предсказываем на тестовом наборе\n",
    "y_test_pred = best_model.predict(X_test)\n",
    "\n",
    "# R-squared (R²)\n",
    "r2 = r2_score(y_test, y_test_pred)\n",
    "\n",
    "# Root Mean Squared Error (RMSE)\n",
    "rmse = np.sqrt(mean_squared_error(y_test, y_test_pred))\n",
    "\n",
    "# Mean Percentage Error (MPE)\n",
    "mpe = np.mean((y_test - y_test_pred) / y_test) * 100\n",
    "\n",
    "# Print the results\n",
    "print(f\"R^2 (R²): {r2:.4f}\")\n",
    "print(f\"Корень средней квадратной ошибки (RMSE): {rmse:.4f}\")\n",
    "print(f\"Средний процент ошибки (MPE): {mpe:.4f}%\")"
   ],
   "metadata": {
    "collapsed": false,
    "ExecuteTime": {
     "end_time": "2023-12-05T10:34:59.887366900Z",
     "start_time": "2023-12-05T10:34:59.839404700Z"
    }
   },
   "id": "434171c22131a136"
  },
  {
   "cell_type": "markdown",
   "source": [
    "## визуализация качества проверок"
   ],
   "metadata": {
    "collapsed": false
   },
   "id": "51666046113c9b73"
  },
  {
   "cell_type": "code",
   "execution_count": 109,
   "outputs": [
    {
     "data": {
      "text/plain": "<Figure size 1000x600 with 1 Axes>",
      "image/png": "[encoded data removed]"
     },
     "metadata": {},
     "output_type": "display_data"
    },
    {
     "data": {
      "text/plain": "<Figure size 1000x600 with 1 Axes>",
      "image/png": "[encoded data removed]"
     },
     "metadata": {},
     "output_type": "display_data"
    }
   ],
   "source": [
    "import matplotlib.pyplot as plt\n",
    "import seaborn as sns\n",
    "# Scatter plot of predicted vs actual values\n",
    "# log_pred_subset = log_pred[:len(y_test)]\n",
    "plt.figure(figsize=(10, 6))\n",
    "plt.scatter(y_test, y_test_pred, alpha=0.7)\n",
    "plt.title('Предсказанные и Фактические значения')\n",
    "plt.xlabel('Фактические значения')\n",
    "plt.ylabel('Предсказанные значения')\n",
    "plt.show()\n",
    "\n",
    "# Residual plot\n",
    "residuals = y_test - y_test_pred\n",
    "plt.figure(figsize=(10, 6))\n",
    "sns.residplot(x=y_test_pred, y=residuals, lowess=True, color=\"b\")\n",
    "plt.title('График остатков')\n",
    "plt.xlabel('Тренировочные данные')\n",
    "plt.ylabel('Остатки')\n",
    "plt.show()"
   ],
   "metadata": {
    "collapsed": false,
    "ExecuteTime": {
     "end_time": "2023-12-05T10:35:13.141446600Z",
     "start_time": "2023-12-05T10:35:12.619241800Z"
    }
   },
   "id": "fbad1bc0be937fab"
  },
  {
   "cell_type": "markdown",
   "source": [
    "# Вторая часть"
   ],
   "metadata": {
    "collapsed": false
   },
   "id": "f51a4f3a6fa7001d"
  },
  {
   "cell_type": "code",
   "execution_count": 30,
   "outputs": [],
   "source": [
    "import random as rd\n",
    "import pandas as pd\n",
    "from sklearn.ensemble import RandomForestClassifier\n",
    "from sklearn.model_selection import StratifiedKFold"
   ],
   "metadata": {
    "collapsed": false,
    "ExecuteTime": {
     "end_time": "2023-12-05T08:06:45.407342100Z",
     "start_time": "2023-12-05T08:06:45.198346100Z"
    }
   },
   "id": "e62cbcf4ae0b3b81"
  },
  {
   "cell_type": "markdown",
   "source": [
    "\n",
    "### Создание датасета с рандомными данными"
   ],
   "metadata": {
    "collapsed": false
   },
   "id": "4885cee0abdd4aa0"
  },
  {
   "cell_type": "code",
   "execution_count": 53,
   "outputs": [],
   "source": [
    "# количество строк\n",
    "num_rows = 1000\n",
    "\n",
    "salary = np.random.randint(25000, 100000, size=num_rows)\n",
    "city = np.random.choice(['Bishkek', 'Osh', 'Karakol'], size=num_rows)\n",
    "age = np.random.randint(22, 65, size=num_rows)\n",
    "vacation_prefer = np.random.choice(['Beach','Shopping'], size=num_rows)\n",
    "transport_prefer = np.random.choice(['Car','Plane'], size=num_rows)\n",
    "\n",
    "target = np.random.choice(['Dubai', 'Madrid'], size=num_rows)"
   ],
   "metadata": {
    "collapsed": false,
    "ExecuteTime": {
     "end_time": "2023-12-05T09:49:41.463265700Z",
     "start_time": "2023-12-05T09:49:41.418192700Z"
    }
   },
   "id": "13e9c3d156873af7"
  },
  {
   "cell_type": "code",
   "execution_count": 0,
   "outputs": [],
   "source": [
    "\n",
    "# так как при случайном генерировании данных features между собой слабо связаны\n",
    "# ниже была попытка добавить связанность данных между зарплатой и целевыми городами\n",
    "# точность была повышена до 60\n",
    "# однако как мы уже поняли, данные слишком очевидными стали, при этом учитываение остальных features стала значительно меньше\n",
    "# поэтому было принято решение сделать данные случайными.\n",
    "\n",
    "# target = []\n",
    "# for i in salary:\n",
    "#     if i<35000:\n",
    "#         target.append(np.random.choice(['Antalya', 'Moscow']))\n",
    "#     elif i>=40000 and i<60000:\n",
    "#         target.append(np.random.choice(['Dubai', 'Frankfurt']))\n",
    "#     else:\n",
    "#         target.append(np.random.choice(['Los Angeles', 'Madrid']))"
   ],
   "metadata": {
    "collapsed": false
   },
   "id": "8c09aeb1af89872c"
  },
  {
   "cell_type": "code",
   "execution_count": 54,
   "outputs": [
    {
     "name": "stdout",
     "output_type": "stream",
     "text": [
      "   Salary     City  Age Vacation_Prefer Transport_Prefer  Target\n",
      "0   44362      Osh   54        Shopping            Plane   Dubai\n",
      "1   27700  Karakol   30           Beach              Car   Dubai\n",
      "2   34532      Osh   49        Shopping              Car  Madrid\n",
      "3   64145  Bishkek   51        Shopping            Plane   Dubai\n",
      "4   65630  Karakol   43           Beach            Plane   Dubai\n"
     ]
    }
   ],
   "source": [
    "\n",
    "# создание\n",
    "data = pd.DataFrame({\n",
    "    'Salary': salary,\n",
    "    'City': city,\n",
    "    'Age': age,\n",
    "    'Vacation_Prefer': vacation_prefer,\n",
    "    'Transport_Prefer': transport_prefer,\n",
    "    'Target': target\n",
    "})\n",
    "\n",
    "print(data.head())"
   ],
   "metadata": {
    "collapsed": false,
    "ExecuteTime": {
     "end_time": "2023-12-05T09:49:44.911730Z",
     "start_time": "2023-12-05T09:49:44.866995800Z"
    }
   },
   "id": "75590e7855ef14f3"
  },
  {
   "cell_type": "code",
   "execution_count": 55,
   "outputs": [
    {
     "name": "stdout",
     "output_type": "stream",
     "text": [
      "   Salary  Age  Target  City_Bishkek  City_Karakol  City_Osh  \\\n",
      "0   44362   54   Dubai         False         False      True   \n",
      "1   27700   30   Dubai         False          True     False   \n",
      "2   34532   49  Madrid         False         False      True   \n",
      "3   64145   51   Dubai          True         False     False   \n",
      "4   65630   43   Dubai         False          True     False   \n",
      "\n",
      "   Vacation_Prefer_Beach  Vacation_Prefer_Shopping  Transport_Prefer_Car  \\\n",
      "0                  False                      True                 False   \n",
      "1                   True                     False                  True   \n",
      "2                  False                      True                  True   \n",
      "3                  False                      True                 False   \n",
      "4                   True                     False                 False   \n",
      "\n",
      "   Transport_Prefer_Plane  \n",
      "0                    True  \n",
      "1                   False  \n",
      "2                   False  \n",
      "3                    True  \n",
      "4                    True  \n"
     ]
    }
   ],
   "source": [
    "# категориальные данные\n",
    "categorical_columns = ['City', 'Vacation_Prefer', 'Transport_Prefer']\n",
    "\n",
    "data_encoded = pd.get_dummies(data, columns=categorical_columns)\n",
    "\n",
    "print(data_encoded.head())"
   ],
   "metadata": {
    "collapsed": false,
    "ExecuteTime": {
     "end_time": "2023-12-05T09:49:47.001469800Z",
     "start_time": "2023-12-05T09:49:46.942384700Z"
    }
   },
   "id": "a4eab0d1ce157a35"
  },
  {
   "cell_type": "code",
   "execution_count": 56,
   "outputs": [
    {
     "name": "stdout",
     "output_type": "stream",
     "text": [
      "Лучший гиперпараметр: {'max_depth': None, 'min_samples_leaf': 4, 'min_samples_split': 2, 'n_estimators': 50}\n"
     ]
    }
   ],
   "source": [
    "from sklearn.metrics import accuracy_score, confusion_matrix, make_scorer\n",
    "\n",
    "X = data_encoded.drop('Target', axis=1)\n",
    "y = data_encoded['Target']\n",
    "X_train, X_test, y_train, y_test = train_test_split(X, y, \n",
    "                                                    test_size=0.2, random_state=42)\n",
    "\n",
    "# Рандомный лес\n",
    "rf_classifier = RandomForestClassifier(n_estimators=100, random_state=42)\n",
    "\n",
    "# Определяем параметры grid\n",
    "param_grid = {\n",
    "    'n_estimators': [50, 100, 150],\n",
    "    'max_depth': [None, 10, 20],\n",
    "    'min_samples_split': [2, 5, 10],\n",
    "    'min_samples_leaf': [1, 2, 4]\n",
    "}\n",
    "# Создаем стратифицированную к-блочную кросс валидацию\n",
    "stratified_kfold = StratifiedKFold(n_splits=5, shuffle=True, random_state=42)\n",
    "\n",
    "scoring = make_scorer(accuracy_score)\n",
    "\n",
    "# инициализация GridSearchCV\n",
    "grid_search = GridSearchCV(rf_classifier, param_grid, scoring=scoring, cv=stratified_kfold, n_jobs=-1)\n",
    "\n",
    "# используя grid search подбираем лучший гипер параметр\n",
    "grid_search.fit(X_train, y_train)\n",
    "\n",
    "best_params = grid_search.best_params_\n",
    "print(\"Лучший гиперпараметр:\", best_params)\n",
    "\n",
    "# Используем лучшую модель\n",
    "y_pred = grid_search.predict(X_test)"
   ],
   "metadata": {
    "collapsed": false,
    "ExecuteTime": {
     "end_time": "2023-12-05T09:53:08.622787200Z",
     "start_time": "2023-12-05T09:49:52.173797100Z"
    }
   },
   "id": "e856683c4a058300"
  },
  {
   "cell_type": "markdown",
   "source": [
    "## Оценка правильности модели"
   ],
   "metadata": {
    "collapsed": false
   },
   "id": "9637ad2b2e16b9cd"
  },
  {
   "cell_type": "code",
   "execution_count": 58,
   "outputs": [
    {
     "name": "stdout",
     "output_type": "stream",
     "text": [
      "Точность тестового набора: 0.4865\n",
      "Правильность кросс-валидации: [0.503  0.4925 0.4935 0.48   0.5085]\n",
      "Средняя правильность кросс-валидации: 0.4955\n",
      "Точность: 0.4865\n"
     ]
    }
   ],
   "source": [
    "\n",
    "# оценка тестируемой модели\n",
    "accuracy_test = accuracy_score(y_test, y_pred)\n",
    "print(\"Точность тестового набора:\", accuracy_test)\n",
    "\n",
    "# кросс валидация для всего датасета\n",
    "cv_scores = cross_val_score(grid_search.best_estimator_, X, y, \n",
    "                            cv=stratified_kfold, scoring=scoring)\n",
    "print(f\"Правильность кросс-валидации: {cv_scores}\")\n",
    "print(\"Средняя правильность кросс-валидации:\", np.mean(cv_scores))\n",
    "\n",
    "# Расчет точности\n",
    "accuracy = accuracy_score(y_test, y_pred)\n",
    "print(\"Точность:\", accuracy)\n",
    "\n",
    "\n"
   ],
   "metadata": {
    "collapsed": false,
    "ExecuteTime": {
     "end_time": "2023-12-05T09:57:22.081562500Z",
     "start_time": "2023-12-05T09:57:15.706230100Z"
    }
   },
   "id": "20a229bcb21ae184"
  },
  {
   "cell_type": "code",
   "execution_count": 59,
   "outputs": [
    {
     "name": "stdout",
     "output_type": "stream",
     "text": [
      "              precision    recall  f1-score   support\n",
      "\n",
      "       Dubai       0.49      0.53      0.51      1016\n",
      "      Madrid       0.48      0.44      0.46       984\n",
      "\n",
      "    accuracy                           0.49      2000\n",
      "   macro avg       0.49      0.49      0.49      2000\n",
      "weighted avg       0.49      0.49      0.49      2000\n"
     ]
    }
   ],
   "source": [
    "from sklearn.metrics import classification_report\n",
    "print(classification_report(y_test, y_pred))"
   ],
   "metadata": {
    "collapsed": false,
    "ExecuteTime": {
     "end_time": "2023-12-05T09:58:31.747143400Z",
     "start_time": "2023-12-05T09:58:31.669187800Z"
    }
   },
   "id": "54ca09fe41cfd21c"
  },
  {
   "cell_type": "markdown",
   "source": [
    "## предсказание на случайных данных"
   ],
   "metadata": {
    "collapsed": false
   },
   "id": "6ab1bf82b5b1a81d"
  },
  {
   "cell_type": "code",
   "execution_count": 60,
   "outputs": [
    {
     "name": "stdout",
     "output_type": "stream",
     "text": [
      "Column Order: Index(['Salary', 'Age', 'City_Bishkek', 'City_Karakol', 'City_Osh',\n",
      "       'Vacation_Prefer_Beach', 'Vacation_Prefer_Shopping',\n",
      "       'Transport_Prefer_Car', 'Transport_Prefer_Plane'],\n",
      "      dtype='object')\n",
      "Предпочитаемый город: Dubai\n"
     ]
    }
   ],
   "source": [
    "random_df = pd.DataFrame({'Salary': [30000], 'Age': [40], 'City_Bishkek': [1], 'City_Karakol':[0], 'City_Osh':[0], 'Vacation_Prefer_Beach': [1],'Vacation_Prefer_Shopping': [0], 'Transport_Prefer_Car': [0], 'Transport_Prefer_Plane': [0]},\n",
    "                         columns=X.columns)\n",
    "\n",
    "print(f\"Column Order: {random_df.columns}\")\n",
    "prediction = grid_search.predict(random_df)\n",
    "print(f\"Предпочитаемый город: {prediction[0]}\")"
   ],
   "metadata": {
    "collapsed": false,
    "ExecuteTime": {
     "end_time": "2023-12-05T09:58:46.208057200Z",
     "start_time": "2023-12-05T09:58:46.187010100Z"
    }
   },
   "id": "8ac5e343ce7fc375"
  },
  {
   "cell_type": "code",
   "execution_count": null,
   "outputs": [],
   "source": [],
   "metadata": {
    "collapsed": false,
    "ExecuteTime": {
     "start_time": "2023-12-05T08:06:11.502507500Z"
    }
   },
   "id": "225845f0bc0de714"
  }
 ],
 "metadata": {
  "kernelspec": {
   "display_name": "Python 3",
   "language": "python",
   "name": "python3"
  },
  "language_info": {
   "codemirror_mode": {
    "name": "ipython",
    "version": 2
   },
   "file_extension": ".py",
   "mimetype": "text/x-python",
   "name": "python",
   "nbconvert_exporter": "python",
   "pygments_lexer": "ipython2",
   "version": "2.7.6"
  }
 },
 "nbformat": 4,
 "nbformat_minor": 5
}
